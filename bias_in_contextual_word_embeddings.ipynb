{
 "cells": [
  {
   "cell_type": "markdown",
   "id": "72128253",
   "metadata": {},
   "source": [
    "https://skojaku.github.io/applied-soft-comp/m01-word-embedding/bias-in-embedding.html"
   ]
  },
  {
   "cell_type": "code",
   "execution_count": 1,
   "id": "ff74ff19",
   "metadata": {},
   "outputs": [
    {
     "name": "stdout",
     "output_type": "stream",
     "text": [
      "[==================================================] 100.0% 1662.8/1662.8MB downloaded\n"
     ]
    }
   ],
   "source": [
    "import numpy as np\n",
    "from gensim.downloader import load\n",
    "\n",
    "# Load word vectors\n",
    "vectors = load('word2vec-google-news-300')\n",
    "\n",
    "def compute_bias(word, microframe):\n",
    "    word_vector = vectors[word]\n",
    "    return np.dot(word_vector, microframe) / (\n",
    "        np.linalg.norm(word_vector) * np.linalg.norm(microframe)\n",
    "    )\n",
    "\n",
    "def analyze(word, pos_word, neg_word):\n",
    "    if word not in vectors:\n",
    "        return 0.0\n",
    "    microframe = vectors[pos_word] - vectors[neg_word]\n",
    "    bias = compute_bias(word, microframe)\n",
    "    return bias"
   ]
  },
  {
   "cell_type": "code",
   "execution_count": 2,
   "id": "1b124ea0",
   "metadata": {},
   "outputs": [],
   "source": [
    "# Occupations from the paper\n",
    "she_occupations = [\n",
    "    \"homemaker\", \"nurse\", \"receptionist\", \"librarian\", \"socialite\",\n",
    "    \"hairdresser\", \"nanny\", \"bookkeeper\", \"stylist\", \"housekeeper\",\n",
    "]\n",
    "\n",
    "he_occupations = [\n",
    "    \"maestro\", \"skipper\", \"protege\", \"philosopher\", \"captain\",\n",
    "    \"architect\", \"financier\", \"warrior\", \"broadcaster\", \"magician\",\n",
    "    \"boss\"\n",
    "]"
   ]
  },
  {
   "cell_type": "code",
   "execution_count": 3,
   "id": "048edfae",
   "metadata": {},
   "outputs": [
    {
     "name": "stdout",
     "output_type": "stream",
     "text": [
      "Gender Bias in Occupations (she-he axis):\n",
      "\n",
      "She-associated occupations:\n",
      "homemaker: 0.360\n",
      "nurse: 0.333\n",
      "receptionist: 0.329\n",
      "librarian: 0.300\n",
      "socialite: 0.310\n",
      "hairdresser: 0.307\n",
      "nanny: 0.287\n",
      "bookkeeper: 0.264\n",
      "stylist: 0.252\n",
      "housekeeper: 0.260\n",
      "\n",
      "He-associated occupations:\n",
      "maestro: -0.203\n",
      "skipper: -0.177\n",
      "protege: -0.148\n",
      "philosopher: -0.155\n",
      "captain: -0.130\n",
      "architect: -0.151\n",
      "financier: -0.145\n",
      "warrior: -0.120\n",
      "broadcaster: -0.124\n",
      "magician: -0.110\n",
      "boss: -0.090\n"
     ]
    }
   ],
   "source": [
    "# Analyze gender bias in occupations\n",
    "print(\"Gender Bias in Occupations (she-he axis):\")\n",
    "print(\"\\nShe-associated occupations:\")\n",
    "for occupation in she_occupations:\n",
    "    bias = analyze(occupation, \"she\", \"he\")\n",
    "    print(f\"{occupation}: {bias:.3f}\")\n",
    "\n",
    "print(\"\\nHe-associated occupations:\")\n",
    "for occupation in he_occupations:\n",
    "    bias = analyze(occupation, \"she\", \"he\")\n",
    "    print(f\"{occupation}: {bias:.3f}\")"
   ]
  },
  {
   "cell_type": "code",
   "execution_count": 4,
   "id": "050fb47c",
   "metadata": {},
   "outputs": [
    {
     "name": "stdout",
     "output_type": "stream",
     "text": [
      "\n",
      "Analyzing Gender Stereotype Pairs:\n",
      "\n",
      "sewing vs carpentry\n",
      "sewing: 0.302\n",
      "carpentry: -0.028\n",
      "\n",
      "nurse vs surgeon\n",
      "nurse: 0.333\n",
      "surgeon: -0.048\n",
      "\n",
      "softball vs baseball\n",
      "softball: 0.260\n",
      "baseball: -0.066\n",
      "\n",
      "cosmetics vs pharmaceuticals\n",
      "cosmetics: 0.331\n",
      "pharmaceuticals: -0.011\n",
      "\n",
      "vocalist vs guitarist\n",
      "vocalist: 0.140\n",
      "guitarist: -0.041\n"
     ]
    }
   ],
   "source": [
    "# Stereotype analogies from the paper\n",
    "stereotype_pairs = [\n",
    "    (\"sewing\", \"carpentry\"),\n",
    "    (\"nurse\", \"surgeon\"),\n",
    "    (\"softball\", \"baseball\"),\n",
    "    (\"cosmetics\", \"pharmaceuticals\"),\n",
    "    (\"vocalist\", \"guitarist\")\n",
    "]\n",
    "\n",
    "print(\"\\nAnalyzing Gender Stereotype Pairs:\")\n",
    "for word1, word2 in stereotype_pairs:\n",
    "    bias1 = analyze(word1, \"she\", \"he\")\n",
    "    bias2 = analyze(word2, \"she\", \"he\")\n",
    "    print(f\"\\n{word1} vs {word2}\")\n",
    "    print(f\"{word1}: {bias1:.3f}\")\n",
    "    print(f\"{word2}: {bias2:.3f}\")"
   ]
  },
  {
   "cell_type": "code",
   "execution_count": 5,
   "id": "4dd91fc7",
   "metadata": {},
   "outputs": [],
   "source": [
    "# Words associated with softball-football axis\n",
    "softball_associations = [\n",
    "    \"pitcher\", \"bookkeeper\", \"receptionist\",\n",
    "    \"nurse\", \"waitress\"\n",
    "]\n",
    "\n",
    "football_associations = [\n",
    "    \"footballer\", \"businessman\", \"pundit\",\n",
    "    \"maestro\", \"cleric\"\n",
    "]\n",
    "\n",
    "# Analyze bias along both gender and sports axes\n",
    "import matplotlib.pyplot as plt\n",
    "\n",
    "# Calculate biases for all words\n",
    "gender_biases = []\n",
    "sports_biases = []\n",
    "words = softball_associations + football_associations\n",
    "\n",
    "for word in words:\n",
    "    gender_bias = analyze(word, \"she\", \"he\")\n",
    "    sports_bias = analyze(word, \"softball\", \"football\")\n",
    "    gender_biases.append(gender_bias)\n",
    "    sports_biases.append(sports_bias)"
   ]
  },
  {
   "cell_type": "code",
   "execution_count": 6,
   "id": "7f4d62ce",
   "metadata": {},
   "outputs": [
    {
     "data": {
      "image/png": "[encoded data removed]",
      "text/plain": [
       "<Figure size 1000x600 with 1 Axes>"
      ]
     },
     "metadata": {},
     "output_type": "display_data"
    },
    {
     "name": "stdout",
     "output_type": "stream",
     "text": [
      "\n",
      "Indirect Bias Analysis (Numerical Results):\n",
      "\n",
      "pitcher:\n",
      "Gender bias: 0.075\n",
      "Sports bias: 0.270\n",
      "\n",
      "bookkeeper:\n",
      "Gender bias: 0.264\n",
      "Sports bias: 0.195\n",
      "\n",
      "receptionist:\n",
      "Gender bias: 0.329\n",
      "Sports bias: 0.159\n",
      "\n",
      "nurse:\n",
      "Gender bias: 0.333\n",
      "Sports bias: 0.079\n",
      "\n",
      "waitress:\n",
      "Gender bias: 0.342\n",
      "Sports bias: 0.163\n",
      "\n",
      "footballer:\n",
      "Gender bias: -0.049\n",
      "Sports bias: -0.275\n",
      "\n",
      "businessman:\n",
      "Gender bias: -0.166\n",
      "Sports bias: -0.174\n",
      "\n",
      "pundit:\n",
      "Gender bias: -0.097\n",
      "Sports bias: -0.170\n",
      "\n",
      "maestro:\n",
      "Gender bias: -0.203\n",
      "Sports bias: -0.175\n",
      "\n",
      "cleric:\n",
      "Gender bias: -0.016\n",
      "Sports bias: -0.147\n"
     ]
    }
   ],
   "source": [
    "# Create scatter plot\n",
    "plt.figure(figsize=(10, 6))\n",
    "plt.scatter(gender_biases, sports_biases)\n",
    "\n",
    "# Add labels for each point\n",
    "for i, word in enumerate(words):\n",
    "    plt.annotate(word, (gender_biases[i], sports_biases[i]))\n",
    "\n",
    "plt.axhline(y=0, color='k', linestyle='-', alpha=0.3)\n",
    "plt.axvline(x=0, color='k', linestyle='-', alpha=0.3)\n",
    "\n",
    "plt.xlabel('Gender Bias (she-he)')\n",
    "plt.ylabel('Sports Bias (softball-football)')\n",
    "plt.title('Indirect Bias Analysis: Gender vs Sports')\n",
    "\n",
    "# Add grid for better readability\n",
    "plt.grid(True, alpha=0.3)\n",
    "plt.show()\n",
    "\n",
    "# Print numerical results\n",
    "print(\"\\nIndirect Bias Analysis (Numerical Results):\")\n",
    "for i, word in enumerate(words):\n",
    "    print(f\"\\n{word}:\")\n",
    "    print(f\"Gender bias: {gender_biases[i]:.3f}\")\n",
    "    print(f\"Sports bias: {sports_biases[i]:.3f}\")"
   ]
  }
 ],
 "metadata": {
  "kernelspec": {
   "display_name": "Python 3",
   "language": "python",
   "name": "python3"
  },
  "language_info": {
   "codemirror_mode": {
    "name": "ipython",
    "version": 3
   },
   "file_extension": ".py",
   "mimetype": "text/x-python",
   "name": "python",
   "nbconvert_exporter": "python",
   "pygments_lexer": "ipython3",
   "version": "3.10.11"
  }
 },
 "nbformat": 4,
 "nbformat_minor": 5
}
