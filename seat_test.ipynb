{
 "cells": [
  {
   "cell_type": "code",
   "execution_count": 1,
   "id": "6998f8a1",
   "metadata": {},
   "outputs": [
    {
     "name": "stderr",
     "output_type": "stream",
     "text": [
      "C:\\Users\\a4293604\\AppData\\Local\\Packages\\PythonSoftwareFoundation.Python.3.10_qbz5n2kfra8p0\\LocalCache\\local-packages\\Python310\\site-packages\\tqdm\\auto.py:21: TqdmWarning: IProgress not found. Please update jupyter and ipywidgets. See https://ipywidgets.readthedocs.io/en/stable/user_install.html\n",
      "  from .autonotebook import tqdm as notebook_tqdm\n"
     ]
    }
   ],
   "source": [
    "from transformers import BertTokenizer, BertModel\n",
    "import torch\n",
    "import numpy as np\n",
    "from scipy.spatial.distance import cosine\n",
    "from itertools import combinations\n",
    "import random\n",
    "\n",
    "tokenizer = BertTokenizer.from_pretrained(\"bert-base-uncased\")\n",
    "model = BertModel.from_pretrained(\"bert-base-uncased\")"
   ]
  },
  {
   "cell_type": "code",
   "execution_count": 2,
   "id": "83788ead",
   "metadata": {},
   "outputs": [],
   "source": [
    "\n",
    "male_names = [\"John\", \"Paul\", \"Mike\", \"Kevin\", \"Steve\", \"Greg\", \"Jeff\", \"Bill\",\n",
    "              \"Frank\", \"George\", \"Ron\", \"Chris\", \"Mark\", \"Dan\", \"Tom\", \"Josh\"]\n",
    "female_names = [\"Amy\", \"Joan\", \"Lisa\", \"Sarah\", \"Diana\", \"Kate\", \"Ann\", \"Donna\",\n",
    "                \"Emily\", \"Julia\", \"Rachel\", \"Karen\", \"Tina\", \"Laura\", \"Jessica\", \"Natalie\"]\n",
    "\n",
    "career_words = [\"executive\", \"management\", \"professional\", \"corporation\", \"salary\", \"office\",\n",
    "                \"business\", \"career\", \"entrepreneur\", \"employee\", \"supervisor\", \"director\",\n",
    "                \"consultant\", \"analyst\", \"finance\", \"marketing\"]\n",
    "family_words = [\"home\", \"parents\", \"children\", \"family\", \"cousins\", \"marriage\", \"wedding\",\n",
    "                \"relatives\", \"mom\", \"dad\", \"babysitter\", \"nursery\", \"housewife\", \"grandparents\", \"aunt\", \"uncle\"]"
   ]
  },
  {
   "cell_type": "code",
   "execution_count": 11,
   "id": "73f021be",
   "metadata": {},
   "outputs": [],
   "source": [
    "\n",
    "def get_sentence_embedding(sentence):\n",
    "    inputs = tokenizer(sentence, return_tensors=\"pt\", truncation=True)\n",
    "    with torch.no_grad():\n",
    "        outputs = model(**inputs)\n",
    "    return outputs.last_hidden_state[0][0].numpy()  # CLS token\n",
    "\n",
    "# Apply sentence template\n",
    "def apply_template(word):\n",
    "    return f\"This is about {word}.\"\n",
    "\n",
    "def get_group_embeddings(words):\n",
    "    return np.array([get_sentence_embedding(apply_template(w)) for w in words])\n",
    "\n"
   ]
  },
  {
   "cell_type": "code",
   "execution_count": 12,
   "id": "150c1a2e",
   "metadata": {},
   "outputs": [],
   "source": [
    "# Get embeddings\n",
    "X = get_group_embeddings(male_names)\n",
    "Y = get_group_embeddings(female_names)\n",
    "A = get_group_embeddings(career_words)\n",
    "B = get_group_embeddings(family_words)\n",
    "\n",
    "# Differential association function\n",
    "def s(w, A, B):\n",
    "    return np.mean([1 - cosine(w, a) for a in A]) - np.mean([1 - cosine(w, b) for b in B])\n",
    "\n",
    "def test_statistic(X, Y, A, B):\n",
    "    return np.sum([s(x, A, B) for x in X]) - np.sum([s(y, A, B) for y in Y])"
   ]
  },
  {
   "cell_type": "code",
   "execution_count": 6,
   "id": "6d22ea7b",
   "metadata": {},
   "outputs": [
    {
     "name": "stdout",
     "output_type": "stream",
     "text": [
      "SEAT-6 Gender Bias Score: 0.0193\n",
      "p-value (permutation test): 0.0300\n"
     ]
    }
   ],
   "source": [
    "# Observed test statistic\n",
    "observed_stat = test_statistic(X, Y, A, B)\n",
    "\n",
    "# Permutation test\n",
    "def permutation_test(X, Y, A, B, n_samples=10000, seed=42):\n",
    "    random.seed(seed)\n",
    "    np.random.seed(seed)\n",
    "    all_embeddings = np.concatenate([X, Y])\n",
    "    n = len(X)\n",
    "    greater_count = 0\n",
    "\n",
    "    for _ in range(n_samples):\n",
    "        np.random.shuffle(all_embeddings)\n",
    "        X_perm = all_embeddings[:n]\n",
    "        Y_perm = all_embeddings[n:]\n",
    "        stat = test_statistic(X_perm, Y_perm, A, B)\n",
    "        if abs(stat) >= abs(observed_stat):\n",
    "            greater_count += 1\n",
    "\n",
    "    p_value = greater_count / n_samples\n",
    "    return p_value\n",
    "\n",
    "# Run test\n",
    "p_value = permutation_test(X, Y, A, B, n_samples=100)\n",
    "print(f\"SEAT-6 Gender Bias Score: {observed_stat:.4f}\")\n",
    "print(f\"p-value (permutation test): {p_value:.4f}\")"
   ]
  },
  {
   "cell_type": "code",
   "execution_count": 10,
   "id": "4a78fe37",
   "metadata": {},
   "outputs": [
    {
     "name": "stdout",
     "output_type": "stream",
     "text": [
      "Effect size (Cohen's d): 0.8630\n"
     ]
    }
   ],
   "source": [
    "import numpy as np\n",
    "from scipy.spatial.distance import cosine\n",
    "\n",
    "# assuming you already have embeddings:\n",
    "# X: embeddings for male names\n",
    "# Y: embeddings for female names\n",
    "# A: embeddings for career words\n",
    "# B: embeddings for family words\n",
    "\n",
    "# 1) re-define s(w,A,B)\n",
    "def s(w, A, B):\n",
    "    cos_with_A = [1 - cosine(w, a) for a in A]\n",
    "    cos_with_B = [1 - cosine(w, b) for b in B]\n",
    "    return np.mean(cos_with_A) - np.mean(cos_with_B)\n",
    "\n",
    "# 2) collect s-values for all target words\n",
    "s_X = np.array([s(x, A, B) for x in X])\n",
    "s_Y = np.array([s(y, A, B) for y in Y])\n",
    "all_s = np.concatenate([s_X, s_Y])\n",
    "\n",
    "# 3) compute effect size d\n",
    "mean_diff = np.mean(s_X) - np.mean(s_Y)\n",
    "pooled_std = np.std(all_s, ddof=1)   # sample std-dev\n",
    "cohen_d = mean_diff / pooled_std\n",
    "\n",
    "print(f\"Effect size (Cohen's d): {cohen_d:.4f}\")\n"
   ]
  }
 ],
 "metadata": {
  "kernelspec": {
   "display_name": "Python 3",
   "language": "python",
   "name": "python3"
  },
  "language_info": {
   "codemirror_mode": {
    "name": "ipython",
    "version": 3
   },
   "file_extension": ".py",
   "mimetype": "text/x-python",
   "name": "python",
   "nbconvert_exporter": "python",
   "pygments_lexer": "ipython3",
   "version": "3.10.11"
  }
 },
 "nbformat": 4,
 "nbformat_minor": 5
}
