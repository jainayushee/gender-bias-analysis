{
 "cells": [
  {
   "cell_type": "code",
   "execution_count": 3,
   "id": "627fb8ca",
   "metadata": {},
   "outputs": [
    {
     "name": "stdout",
     "output_type": "stream",
     "text": [
      "CUDA: False CPU\n",
      "Loading dataset...\n",
      "Original sizes: 257478 39642 99069\n"
     ]
    },
    {
     "name": "stderr",
     "output_type": "stream",
     "text": [
      "C:\\Users\\a4293604\\AppData\\Local\\Temp\\ipykernel_12916\\1901290391.py:86: FutureWarning: DataFrameGroupBy.apply operated on the grouping columns. This behavior is deprecated, and in a future version of pandas the grouping columns will be excluded from the operation. Either pass `include_groups=False` to exclude the groupings or explicitly select the grouping columns after groupby to silence this warning.\n",
      "  .apply(lambda x: x.sample(n=min(cap, len(x)), random_state=seed))\n",
      "C:\\Users\\a4293604\\AppData\\Local\\Temp\\ipykernel_12916\\1901290391.py:86: FutureWarning: DataFrameGroupBy.apply operated on the grouping columns. This behavior is deprecated, and in a future version of pandas the grouping columns will be excluded from the operation. Either pass `include_groups=False` to exclude the groupings or explicitly select the grouping columns after groupby to silence this warning.\n",
      "  .apply(lambda x: x.sample(n=min(cap, len(x)), random_state=seed))\n",
      "C:\\Users\\a4293604\\AppData\\Local\\Temp\\ipykernel_12916\\1901290391.py:86: FutureWarning: DataFrameGroupBy.apply operated on the grouping columns. This behavior is deprecated, and in a future version of pandas the grouping columns will be excluded from the operation. Either pass `include_groups=False` to exclude the groupings or explicitly select the grouping columns after groupby to silence this warning.\n",
      "  .apply(lambda x: x.sample(n=min(cap, len(x)), random_state=seed))\n"
     ]
    },
    {
     "name": "stdout",
     "output_type": "stream",
     "text": [
      "Downsized sizes: 20906 4973 10195\n",
      "num_labels = 28\n"
     ]
    },
    {
     "name": "stderr",
     "output_type": "stream",
     "text": [
      "Map: 100%|██████████| 20906/20906 [00:02<00:00, 10198.80 examples/s]\n",
      "Map: 100%|██████████| 4973/4973 [00:00<00:00, 10354.49 examples/s]\n",
      "Map: 100%|██████████| 10195/10195 [00:01<00:00, 9095.68 examples/s]\n"
     ]
    },
    {
     "name": "stdout",
     "output_type": "stream",
     "text": [
      "\n",
      "=== FULL | λ = 0.0, seed = 1 ===\n"
     ]
    },
    {
     "name": "stderr",
     "output_type": "stream",
     "text": [
      "Some weights of BertForSequenceClassification were not initialized from the model checkpoint at bert-base-uncased and are newly initialized: ['classifier.bias', 'classifier.weight']\n",
      "You should probably TRAIN this model on a down-stream task to be able to use it for predictions and inference.\n",
      "C:\\Users\\a4293604\\AppData\\Local\\Temp\\ipykernel_12916\\1901290391.py:243: FutureWarning: `tokenizer` is deprecated and will be removed in version 5.0.0 for `FairnessTrainer.__init__`. Use `processing_class` instead.\n",
      "  super().__init__(**kwargs)\n",
      "C:\\Users\\a4293604\\AppData\\Local\\Packages\\PythonSoftwareFoundation.Python.3.10_qbz5n2kfra8p0\\LocalCache\\local-packages\\Python310\\site-packages\\torch\\utils\\data\\dataloader.py:665: UserWarning: 'pin_memory' argument is set as true but no accelerator is found, then device pinned memory won't be used.\n",
      "  warnings.warn(warn_msg)\n"
     ]
    },
    {
     "data": {
      "text/html": [
       "\n",
       "    <div>\n",
       "      \n",
       "      <progress value='150' max='150' style='width:300px; height:20px; vertical-align: middle;'></progress>\n",
       "      [150/150 31:55, Epoch 0/1]\n",
       "    </div>\n",
       "    <table border=\"1\" class=\"dataframe\">\n",
       "  <thead>\n",
       " <tr style=\"text-align: left;\">\n",
       "      <th>Step</th>\n",
       "      <th>Training Loss</th>\n",
       "      <th>Validation Loss</th>\n",
       "    </tr>\n",
       "  </thead>\n",
       "  <tbody>\n",
       "  </tbody>\n",
       "</table><p>"
      ],
      "text/plain": [
       "<IPython.core.display.HTML object>"
      ]
     },
     "metadata": {},
     "output_type": "display_data"
    },
    {
     "data": {
      "text/html": [],
      "text/plain": [
       "<IPython.core.display.HTML object>"
      ]
     },
     "metadata": {},
     "output_type": "display_data"
    },
    {
     "name": "stderr",
     "output_type": "stream",
     "text": [
      "C:\\Users\\a4293604\\AppData\\Local\\Packages\\PythonSoftwareFoundation.Python.3.10_qbz5n2kfra8p0\\LocalCache\\local-packages\\Python310\\site-packages\\torch\\utils\\data\\dataloader.py:665: UserWarning: 'pin_memory' argument is set as true but no accelerator is found, then device pinned memory won't be used.\n",
      "  warnings.warn(warn_msg)\n"
     ]
    },
    {
     "data": {
      "text/html": [],
      "text/plain": [
       "<IPython.core.display.HTML object>"
      ]
     },
     "metadata": {},
     "output_type": "display_data"
    },
    {
     "name": "stdout",
     "output_type": "stream",
     "text": [
      "\n",
      "=== FULL | λ = 0.0, seed = 2 ===\n"
     ]
    },
    {
     "name": "stderr",
     "output_type": "stream",
     "text": [
      "Some weights of BertForSequenceClassification were not initialized from the model checkpoint at bert-base-uncased and are newly initialized: ['classifier.bias', 'classifier.weight']\n",
      "You should probably TRAIN this model on a down-stream task to be able to use it for predictions and inference.\n",
      "C:\\Users\\a4293604\\AppData\\Local\\Temp\\ipykernel_12916\\1901290391.py:243: FutureWarning: `tokenizer` is deprecated and will be removed in version 5.0.0 for `FairnessTrainer.__init__`. Use `processing_class` instead.\n",
      "  super().__init__(**kwargs)\n",
      "C:\\Users\\a4293604\\AppData\\Local\\Packages\\PythonSoftwareFoundation.Python.3.10_qbz5n2kfra8p0\\LocalCache\\local-packages\\Python310\\site-packages\\torch\\utils\\data\\dataloader.py:665: UserWarning: 'pin_memory' argument is set as true but no accelerator is found, then device pinned memory won't be used.\n",
      "  warnings.warn(warn_msg)\n"
     ]
    },
    {
     "data": {
      "text/html": [
       "\n",
       "    <div>\n",
       "      \n",
       "      <progress value='150' max='150' style='width:300px; height:20px; vertical-align: middle;'></progress>\n",
       "      [150/150 34:14, Epoch 0/1]\n",
       "    </div>\n",
       "    <table border=\"1\" class=\"dataframe\">\n",
       "  <thead>\n",
       " <tr style=\"text-align: left;\">\n",
       "      <th>Step</th>\n",
       "      <th>Training Loss</th>\n",
       "      <th>Validation Loss</th>\n",
       "    </tr>\n",
       "  </thead>\n",
       "  <tbody>\n",
       "  </tbody>\n",
       "</table><p>"
      ],
      "text/plain": [
       "<IPython.core.display.HTML object>"
      ]
     },
     "metadata": {},
     "output_type": "display_data"
    },
    {
     "data": {
      "text/html": [],
      "text/plain": [
       "<IPython.core.display.HTML object>"
      ]
     },
     "metadata": {},
     "output_type": "display_data"
    },
    {
     "name": "stderr",
     "output_type": "stream",
     "text": [
      "C:\\Users\\a4293604\\AppData\\Local\\Packages\\PythonSoftwareFoundation.Python.3.10_qbz5n2kfra8p0\\LocalCache\\local-packages\\Python310\\site-packages\\torch\\utils\\data\\dataloader.py:665: UserWarning: 'pin_memory' argument is set as true but no accelerator is found, then device pinned memory won't be used.\n",
      "  warnings.warn(warn_msg)\n"
     ]
    },
    {
     "data": {
      "text/html": [],
      "text/plain": [
       "<IPython.core.display.HTML object>"
      ]
     },
     "metadata": {},
     "output_type": "display_data"
    },
    {
     "name": "stdout",
     "output_type": "stream",
     "text": [
      "\n",
      "=== FULL | λ = 0.0, seed = 3 ===\n"
     ]
    },
    {
     "name": "stderr",
     "output_type": "stream",
     "text": [
      "Some weights of BertForSequenceClassification were not initialized from the model checkpoint at bert-base-uncased and are newly initialized: ['classifier.bias', 'classifier.weight']\n",
      "You should probably TRAIN this model on a down-stream task to be able to use it for predictions and inference.\n",
      "C:\\Users\\a4293604\\AppData\\Local\\Temp\\ipykernel_12916\\1901290391.py:243: FutureWarning: `tokenizer` is deprecated and will be removed in version 5.0.0 for `FairnessTrainer.__init__`. Use `processing_class` instead.\n",
      "  super().__init__(**kwargs)\n",
      "C:\\Users\\a4293604\\AppData\\Local\\Packages\\PythonSoftwareFoundation.Python.3.10_qbz5n2kfra8p0\\LocalCache\\local-packages\\Python310\\site-packages\\torch\\utils\\data\\dataloader.py:665: UserWarning: 'pin_memory' argument is set as true but no accelerator is found, then device pinned memory won't be used.\n",
      "  warnings.warn(warn_msg)\n"
     ]
    },
    {
     "data": {
      "text/html": [
       "\n",
       "    <div>\n",
       "      \n",
       "      <progress value='150' max='150' style='width:300px; height:20px; vertical-align: middle;'></progress>\n",
       "      [150/150 33:54, Epoch 0/1]\n",
       "    </div>\n",
       "    <table border=\"1\" class=\"dataframe\">\n",
       "  <thead>\n",
       " <tr style=\"text-align: left;\">\n",
       "      <th>Step</th>\n",
       "      <th>Training Loss</th>\n",
       "      <th>Validation Loss</th>\n",
       "    </tr>\n",
       "  </thead>\n",
       "  <tbody>\n",
       "  </tbody>\n",
       "</table><p>"
      ],
      "text/plain": [
       "<IPython.core.display.HTML object>"
      ]
     },
     "metadata": {},
     "output_type": "display_data"
    },
    {
     "data": {
      "text/html": [],
      "text/plain": [
       "<IPython.core.display.HTML object>"
      ]
     },
     "metadata": {},
     "output_type": "display_data"
    },
    {
     "name": "stderr",
     "output_type": "stream",
     "text": [
      "C:\\Users\\a4293604\\AppData\\Local\\Packages\\PythonSoftwareFoundation.Python.3.10_qbz5n2kfra8p0\\LocalCache\\local-packages\\Python310\\site-packages\\torch\\utils\\data\\dataloader.py:665: UserWarning: 'pin_memory' argument is set as true but no accelerator is found, then device pinned memory won't be used.\n",
      "  warnings.warn(warn_msg)\n"
     ]
    },
    {
     "data": {
      "text/html": [],
      "text/plain": [
       "<IPython.core.display.HTML object>"
      ]
     },
     "metadata": {},
     "output_type": "display_data"
    },
    {
     "name": "stdout",
     "output_type": "stream",
     "text": [
      "\n",
      "=== FULL | λ = 0.05, seed = 1 ===\n"
     ]
    },
    {
     "name": "stderr",
     "output_type": "stream",
     "text": [
      "Some weights of BertForSequenceClassification were not initialized from the model checkpoint at bert-base-uncased and are newly initialized: ['classifier.bias', 'classifier.weight']\n",
      "You should probably TRAIN this model on a down-stream task to be able to use it for predictions and inference.\n",
      "C:\\Users\\a4293604\\AppData\\Local\\Temp\\ipykernel_12916\\1901290391.py:243: FutureWarning: `tokenizer` is deprecated and will be removed in version 5.0.0 for `FairnessTrainer.__init__`. Use `processing_class` instead.\n",
      "  super().__init__(**kwargs)\n",
      "C:\\Users\\a4293604\\AppData\\Local\\Packages\\PythonSoftwareFoundation.Python.3.10_qbz5n2kfra8p0\\LocalCache\\local-packages\\Python310\\site-packages\\torch\\utils\\data\\dataloader.py:665: UserWarning: 'pin_memory' argument is set as true but no accelerator is found, then device pinned memory won't be used.\n",
      "  warnings.warn(warn_msg)\n"
     ]
    },
    {
     "data": {
      "text/html": [
       "\n",
       "    <div>\n",
       "      \n",
       "      <progress value='150' max='150' style='width:300px; height:20px; vertical-align: middle;'></progress>\n",
       "      [150/150 33:27, Epoch 0/1]\n",
       "    </div>\n",
       "    <table border=\"1\" class=\"dataframe\">\n",
       "  <thead>\n",
       " <tr style=\"text-align: left;\">\n",
       "      <th>Step</th>\n",
       "      <th>Training Loss</th>\n",
       "      <th>Validation Loss</th>\n",
       "    </tr>\n",
       "  </thead>\n",
       "  <tbody>\n",
       "  </tbody>\n",
       "</table><p>"
      ],
      "text/plain": [
       "<IPython.core.display.HTML object>"
      ]
     },
     "metadata": {},
     "output_type": "display_data"
    },
    {
     "data": {
      "text/html": [],
      "text/plain": [
       "<IPython.core.display.HTML object>"
      ]
     },
     "metadata": {},
     "output_type": "display_data"
    },
    {
     "name": "stderr",
     "output_type": "stream",
     "text": [
      "C:\\Users\\a4293604\\AppData\\Local\\Packages\\PythonSoftwareFoundation.Python.3.10_qbz5n2kfra8p0\\LocalCache\\local-packages\\Python310\\site-packages\\torch\\utils\\data\\dataloader.py:665: UserWarning: 'pin_memory' argument is set as true but no accelerator is found, then device pinned memory won't be used.\n",
      "  warnings.warn(warn_msg)\n"
     ]
    },
    {
     "data": {
      "text/html": [],
      "text/plain": [
       "<IPython.core.display.HTML object>"
      ]
     },
     "metadata": {},
     "output_type": "display_data"
    },
    {
     "name": "stdout",
     "output_type": "stream",
     "text": [
      "\n",
      "=== FULL | λ = 0.05, seed = 2 ===\n"
     ]
    },
    {
     "name": "stderr",
     "output_type": "stream",
     "text": [
      "Some weights of BertForSequenceClassification were not initialized from the model checkpoint at bert-base-uncased and are newly initialized: ['classifier.bias', 'classifier.weight']\n",
      "You should probably TRAIN this model on a down-stream task to be able to use it for predictions and inference.\n",
      "C:\\Users\\a4293604\\AppData\\Local\\Temp\\ipykernel_12916\\1901290391.py:243: FutureWarning: `tokenizer` is deprecated and will be removed in version 5.0.0 for `FairnessTrainer.__init__`. Use `processing_class` instead.\n",
      "  super().__init__(**kwargs)\n",
      "C:\\Users\\a4293604\\AppData\\Local\\Packages\\PythonSoftwareFoundation.Python.3.10_qbz5n2kfra8p0\\LocalCache\\local-packages\\Python310\\site-packages\\torch\\utils\\data\\dataloader.py:665: UserWarning: 'pin_memory' argument is set as true but no accelerator is found, then device pinned memory won't be used.\n",
      "  warnings.warn(warn_msg)\n"
     ]
    },
    {
     "data": {
      "text/html": [
       "\n",
       "    <div>\n",
       "      \n",
       "      <progress value='150' max='150' style='width:300px; height:20px; vertical-align: middle;'></progress>\n",
       "      [150/150 30:51, Epoch 0/1]\n",
       "    </div>\n",
       "    <table border=\"1\" class=\"dataframe\">\n",
       "  <thead>\n",
       " <tr style=\"text-align: left;\">\n",
       "      <th>Step</th>\n",
       "      <th>Training Loss</th>\n",
       "      <th>Validation Loss</th>\n",
       "    </tr>\n",
       "  </thead>\n",
       "  <tbody>\n",
       "  </tbody>\n",
       "</table><p>"
      ],
      "text/plain": [
       "<IPython.core.display.HTML object>"
      ]
     },
     "metadata": {},
     "output_type": "display_data"
    },
    {
     "data": {
      "text/html": [],
      "text/plain": [
       "<IPython.core.display.HTML object>"
      ]
     },
     "metadata": {},
     "output_type": "display_data"
    },
    {
     "name": "stderr",
     "output_type": "stream",
     "text": [
      "C:\\Users\\a4293604\\AppData\\Local\\Packages\\PythonSoftwareFoundation.Python.3.10_qbz5n2kfra8p0\\LocalCache\\local-packages\\Python310\\site-packages\\torch\\utils\\data\\dataloader.py:665: UserWarning: 'pin_memory' argument is set as true but no accelerator is found, then device pinned memory won't be used.\n",
      "  warnings.warn(warn_msg)\n"
     ]
    },
    {
     "data": {
      "text/html": [],
      "text/plain": [
       "<IPython.core.display.HTML object>"
      ]
     },
     "metadata": {},
     "output_type": "display_data"
    },
    {
     "name": "stdout",
     "output_type": "stream",
     "text": [
      "\n",
      "=== FULL | λ = 0.05, seed = 3 ===\n"
     ]
    },
    {
     "name": "stderr",
     "output_type": "stream",
     "text": [
      "Some weights of BertForSequenceClassification were not initialized from the model checkpoint at bert-base-uncased and are newly initialized: ['classifier.bias', 'classifier.weight']\n",
      "You should probably TRAIN this model on a down-stream task to be able to use it for predictions and inference.\n",
      "C:\\Users\\a4293604\\AppData\\Local\\Temp\\ipykernel_12916\\1901290391.py:243: FutureWarning: `tokenizer` is deprecated and will be removed in version 5.0.0 for `FairnessTrainer.__init__`. Use `processing_class` instead.\n",
      "  super().__init__(**kwargs)\n",
      "C:\\Users\\a4293604\\AppData\\Local\\Packages\\PythonSoftwareFoundation.Python.3.10_qbz5n2kfra8p0\\LocalCache\\local-packages\\Python310\\site-packages\\torch\\utils\\data\\dataloader.py:665: UserWarning: 'pin_memory' argument is set as true but no accelerator is found, then device pinned memory won't be used.\n",
      "  warnings.warn(warn_msg)\n"
     ]
    },
    {
     "data": {
      "text/html": [
       "\n",
       "    <div>\n",
       "      \n",
       "      <progress value='150' max='150' style='width:300px; height:20px; vertical-align: middle;'></progress>\n",
       "      [150/150 30:32, Epoch 0/1]\n",
       "    </div>\n",
       "    <table border=\"1\" class=\"dataframe\">\n",
       "  <thead>\n",
       " <tr style=\"text-align: left;\">\n",
       "      <th>Step</th>\n",
       "      <th>Training Loss</th>\n",
       "      <th>Validation Loss</th>\n",
       "    </tr>\n",
       "  </thead>\n",
       "  <tbody>\n",
       "  </tbody>\n",
       "</table><p>"
      ],
      "text/plain": [
       "<IPython.core.display.HTML object>"
      ]
     },
     "metadata": {},
     "output_type": "display_data"
    },
    {
     "data": {
      "text/html": [],
      "text/plain": [
       "<IPython.core.display.HTML object>"
      ]
     },
     "metadata": {},
     "output_type": "display_data"
    },
    {
     "name": "stderr",
     "output_type": "stream",
     "text": [
      "C:\\Users\\a4293604\\AppData\\Local\\Packages\\PythonSoftwareFoundation.Python.3.10_qbz5n2kfra8p0\\LocalCache\\local-packages\\Python310\\site-packages\\torch\\utils\\data\\dataloader.py:665: UserWarning: 'pin_memory' argument is set as true but no accelerator is found, then device pinned memory won't be used.\n",
      "  warnings.warn(warn_msg)\n"
     ]
    },
    {
     "data": {
      "text/html": [],
      "text/plain": [
       "<IPython.core.display.HTML object>"
      ]
     },
     "metadata": {},
     "output_type": "display_data"
    },
    {
     "name": "stdout",
     "output_type": "stream",
     "text": [
      "\n",
      "=== FULL | λ = 0.1, seed = 1 ===\n"
     ]
    },
    {
     "name": "stderr",
     "output_type": "stream",
     "text": [
      "Some weights of BertForSequenceClassification were not initialized from the model checkpoint at bert-base-uncased and are newly initialized: ['classifier.bias', 'classifier.weight']\n",
      "You should probably TRAIN this model on a down-stream task to be able to use it for predictions and inference.\n",
      "C:\\Users\\a4293604\\AppData\\Local\\Temp\\ipykernel_12916\\1901290391.py:243: FutureWarning: `tokenizer` is deprecated and will be removed in version 5.0.0 for `FairnessTrainer.__init__`. Use `processing_class` instead.\n",
      "  super().__init__(**kwargs)\n",
      "C:\\Users\\a4293604\\AppData\\Local\\Packages\\PythonSoftwareFoundation.Python.3.10_qbz5n2kfra8p0\\LocalCache\\local-packages\\Python310\\site-packages\\torch\\utils\\data\\dataloader.py:665: UserWarning: 'pin_memory' argument is set as true but no accelerator is found, then device pinned memory won't be used.\n",
      "  warnings.warn(warn_msg)\n"
     ]
    },
    {
     "data": {
      "text/html": [
       "\n",
       "    <div>\n",
       "      \n",
       "      <progress value='150' max='150' style='width:300px; height:20px; vertical-align: middle;'></progress>\n",
       "      [150/150 30:31, Epoch 0/1]\n",
       "    </div>\n",
       "    <table border=\"1\" class=\"dataframe\">\n",
       "  <thead>\n",
       " <tr style=\"text-align: left;\">\n",
       "      <th>Step</th>\n",
       "      <th>Training Loss</th>\n",
       "      <th>Validation Loss</th>\n",
       "    </tr>\n",
       "  </thead>\n",
       "  <tbody>\n",
       "  </tbody>\n",
       "</table><p>"
      ],
      "text/plain": [
       "<IPython.core.display.HTML object>"
      ]
     },
     "metadata": {},
     "output_type": "display_data"
    },
    {
     "data": {
      "text/html": [],
      "text/plain": [
       "<IPython.core.display.HTML object>"
      ]
     },
     "metadata": {},
     "output_type": "display_data"
    },
    {
     "name": "stderr",
     "output_type": "stream",
     "text": [
      "C:\\Users\\a4293604\\AppData\\Local\\Packages\\PythonSoftwareFoundation.Python.3.10_qbz5n2kfra8p0\\LocalCache\\local-packages\\Python310\\site-packages\\torch\\utils\\data\\dataloader.py:665: UserWarning: 'pin_memory' argument is set as true but no accelerator is found, then device pinned memory won't be used.\n",
      "  warnings.warn(warn_msg)\n"
     ]
    },
    {
     "data": {
      "text/html": [],
      "text/plain": [
       "<IPython.core.display.HTML object>"
      ]
     },
     "metadata": {},
     "output_type": "display_data"
    },
    {
     "name": "stdout",
     "output_type": "stream",
     "text": [
      "\n",
      "=== FULL | λ = 0.1, seed = 2 ===\n"
     ]
    },
    {
     "name": "stderr",
     "output_type": "stream",
     "text": [
      "Some weights of BertForSequenceClassification were not initialized from the model checkpoint at bert-base-uncased and are newly initialized: ['classifier.bias', 'classifier.weight']\n",
      "You should probably TRAIN this model on a down-stream task to be able to use it for predictions and inference.\n",
      "C:\\Users\\a4293604\\AppData\\Local\\Temp\\ipykernel_12916\\1901290391.py:243: FutureWarning: `tokenizer` is deprecated and will be removed in version 5.0.0 for `FairnessTrainer.__init__`. Use `processing_class` instead.\n",
      "  super().__init__(**kwargs)\n",
      "C:\\Users\\a4293604\\AppData\\Local\\Packages\\PythonSoftwareFoundation.Python.3.10_qbz5n2kfra8p0\\LocalCache\\local-packages\\Python310\\site-packages\\torch\\utils\\data\\dataloader.py:665: UserWarning: 'pin_memory' argument is set as true but no accelerator is found, then device pinned memory won't be used.\n",
      "  warnings.warn(warn_msg)\n"
     ]
    },
    {
     "data": {
      "text/html": [
       "\n",
       "    <div>\n",
       "      \n",
       "      <progress value='150' max='150' style='width:300px; height:20px; vertical-align: middle;'></progress>\n",
       "      [150/150 30:47, Epoch 0/1]\n",
       "    </div>\n",
       "    <table border=\"1\" class=\"dataframe\">\n",
       "  <thead>\n",
       " <tr style=\"text-align: left;\">\n",
       "      <th>Step</th>\n",
       "      <th>Training Loss</th>\n",
       "      <th>Validation Loss</th>\n",
       "    </tr>\n",
       "  </thead>\n",
       "  <tbody>\n",
       "  </tbody>\n",
       "</table><p>"
      ],
      "text/plain": [
       "<IPython.core.display.HTML object>"
      ]
     },
     "metadata": {},
     "output_type": "display_data"
    },
    {
     "data": {
      "text/html": [],
      "text/plain": [
       "<IPython.core.display.HTML object>"
      ]
     },
     "metadata": {},
     "output_type": "display_data"
    },
    {
     "name": "stderr",
     "output_type": "stream",
     "text": [
      "C:\\Users\\a4293604\\AppData\\Local\\Packages\\PythonSoftwareFoundation.Python.3.10_qbz5n2kfra8p0\\LocalCache\\local-packages\\Python310\\site-packages\\torch\\utils\\data\\dataloader.py:665: UserWarning: 'pin_memory' argument is set as true but no accelerator is found, then device pinned memory won't be used.\n",
      "  warnings.warn(warn_msg)\n"
     ]
    },
    {
     "data": {
      "text/html": [],
      "text/plain": [
       "<IPython.core.display.HTML object>"
      ]
     },
     "metadata": {},
     "output_type": "display_data"
    },
    {
     "name": "stdout",
     "output_type": "stream",
     "text": [
      "\n",
      "=== FULL | λ = 0.1, seed = 3 ===\n"
     ]
    },
    {
     "name": "stderr",
     "output_type": "stream",
     "text": [
      "Some weights of BertForSequenceClassification were not initialized from the model checkpoint at bert-base-uncased and are newly initialized: ['classifier.bias', 'classifier.weight']\n",
      "You should probably TRAIN this model on a down-stream task to be able to use it for predictions and inference.\n",
      "C:\\Users\\a4293604\\AppData\\Local\\Temp\\ipykernel_12916\\1901290391.py:243: FutureWarning: `tokenizer` is deprecated and will be removed in version 5.0.0 for `FairnessTrainer.__init__`. Use `processing_class` instead.\n",
      "  super().__init__(**kwargs)\n",
      "C:\\Users\\a4293604\\AppData\\Local\\Packages\\PythonSoftwareFoundation.Python.3.10_qbz5n2kfra8p0\\LocalCache\\local-packages\\Python310\\site-packages\\torch\\utils\\data\\dataloader.py:665: UserWarning: 'pin_memory' argument is set as true but no accelerator is found, then device pinned memory won't be used.\n",
      "  warnings.warn(warn_msg)\n"
     ]
    },
    {
     "data": {
      "text/html": [
       "\n",
       "    <div>\n",
       "      \n",
       "      <progress value='150' max='150' style='width:300px; height:20px; vertical-align: middle;'></progress>\n",
       "      [150/150 30:46, Epoch 0/1]\n",
       "    </div>\n",
       "    <table border=\"1\" class=\"dataframe\">\n",
       "  <thead>\n",
       " <tr style=\"text-align: left;\">\n",
       "      <th>Step</th>\n",
       "      <th>Training Loss</th>\n",
       "      <th>Validation Loss</th>\n",
       "    </tr>\n",
       "  </thead>\n",
       "  <tbody>\n",
       "  </tbody>\n",
       "</table><p>"
      ],
      "text/plain": [
       "<IPython.core.display.HTML object>"
      ]
     },
     "metadata": {},
     "output_type": "display_data"
    },
    {
     "data": {
      "text/html": [],
      "text/plain": [
       "<IPython.core.display.HTML object>"
      ]
     },
     "metadata": {},
     "output_type": "display_data"
    },
    {
     "name": "stderr",
     "output_type": "stream",
     "text": [
      "C:\\Users\\a4293604\\AppData\\Local\\Packages\\PythonSoftwareFoundation.Python.3.10_qbz5n2kfra8p0\\LocalCache\\local-packages\\Python310\\site-packages\\torch\\utils\\data\\dataloader.py:665: UserWarning: 'pin_memory' argument is set as true but no accelerator is found, then device pinned memory won't be used.\n",
      "  warnings.warn(warn_msg)\n"
     ]
    },
    {
     "data": {
      "text/html": [],
      "text/plain": [
       "<IPython.core.display.HTML object>"
      ]
     },
     "metadata": {},
     "output_type": "display_data"
    },
    {
     "name": "stdout",
     "output_type": "stream",
     "text": [
      "\n",
      "=== FULL | λ = 0.2, seed = 1 ===\n"
     ]
    },
    {
     "name": "stderr",
     "output_type": "stream",
     "text": [
      "Some weights of BertForSequenceClassification were not initialized from the model checkpoint at bert-base-uncased and are newly initialized: ['classifier.bias', 'classifier.weight']\n",
      "You should probably TRAIN this model on a down-stream task to be able to use it for predictions and inference.\n",
      "C:\\Users\\a4293604\\AppData\\Local\\Temp\\ipykernel_12916\\1901290391.py:243: FutureWarning: `tokenizer` is deprecated and will be removed in version 5.0.0 for `FairnessTrainer.__init__`. Use `processing_class` instead.\n",
      "  super().__init__(**kwargs)\n",
      "C:\\Users\\a4293604\\AppData\\Local\\Packages\\PythonSoftwareFoundation.Python.3.10_qbz5n2kfra8p0\\LocalCache\\local-packages\\Python310\\site-packages\\torch\\utils\\data\\dataloader.py:665: UserWarning: 'pin_memory' argument is set as true but no accelerator is found, then device pinned memory won't be used.\n",
      "  warnings.warn(warn_msg)\n"
     ]
    },
    {
     "data": {
      "text/html": [
       "\n",
       "    <div>\n",
       "      \n",
       "      <progress value='150' max='150' style='width:300px; height:20px; vertical-align: middle;'></progress>\n",
       "      [150/150 30:42, Epoch 0/1]\n",
       "    </div>\n",
       "    <table border=\"1\" class=\"dataframe\">\n",
       "  <thead>\n",
       " <tr style=\"text-align: left;\">\n",
       "      <th>Step</th>\n",
       "      <th>Training Loss</th>\n",
       "      <th>Validation Loss</th>\n",
       "    </tr>\n",
       "  </thead>\n",
       "  <tbody>\n",
       "  </tbody>\n",
       "</table><p>"
      ],
      "text/plain": [
       "<IPython.core.display.HTML object>"
      ]
     },
     "metadata": {},
     "output_type": "display_data"
    },
    {
     "data": {
      "text/html": [],
      "text/plain": [
       "<IPython.core.display.HTML object>"
      ]
     },
     "metadata": {},
     "output_type": "display_data"
    },
    {
     "name": "stderr",
     "output_type": "stream",
     "text": [
      "C:\\Users\\a4293604\\AppData\\Local\\Packages\\PythonSoftwareFoundation.Python.3.10_qbz5n2kfra8p0\\LocalCache\\local-packages\\Python310\\site-packages\\torch\\utils\\data\\dataloader.py:665: UserWarning: 'pin_memory' argument is set as true but no accelerator is found, then device pinned memory won't be used.\n",
      "  warnings.warn(warn_msg)\n"
     ]
    },
    {
     "data": {
      "text/html": [],
      "text/plain": [
       "<IPython.core.display.HTML object>"
      ]
     },
     "metadata": {},
     "output_type": "display_data"
    },
    {
     "name": "stdout",
     "output_type": "stream",
     "text": [
      "\n",
      "=== FULL | λ = 0.2, seed = 2 ===\n"
     ]
    },
    {
     "name": "stderr",
     "output_type": "stream",
     "text": [
      "Some weights of BertForSequenceClassification were not initialized from the model checkpoint at bert-base-uncased and are newly initialized: ['classifier.bias', 'classifier.weight']\n",
      "You should probably TRAIN this model on a down-stream task to be able to use it for predictions and inference.\n",
      "C:\\Users\\a4293604\\AppData\\Local\\Temp\\ipykernel_12916\\1901290391.py:243: FutureWarning: `tokenizer` is deprecated and will be removed in version 5.0.0 for `FairnessTrainer.__init__`. Use `processing_class` instead.\n",
      "  super().__init__(**kwargs)\n",
      "C:\\Users\\a4293604\\AppData\\Local\\Packages\\PythonSoftwareFoundation.Python.3.10_qbz5n2kfra8p0\\LocalCache\\local-packages\\Python310\\site-packages\\torch\\utils\\data\\dataloader.py:665: UserWarning: 'pin_memory' argument is set as true but no accelerator is found, then device pinned memory won't be used.\n",
      "  warnings.warn(warn_msg)\n"
     ]
    },
    {
     "data": {
      "text/html": [
       "\n",
       "    <div>\n",
       "      \n",
       "      <progress value='150' max='150' style='width:300px; height:20px; vertical-align: middle;'></progress>\n",
       "      [150/150 30:56, Epoch 0/1]\n",
       "    </div>\n",
       "    <table border=\"1\" class=\"dataframe\">\n",
       "  <thead>\n",
       " <tr style=\"text-align: left;\">\n",
       "      <th>Step</th>\n",
       "      <th>Training Loss</th>\n",
       "      <th>Validation Loss</th>\n",
       "    </tr>\n",
       "  </thead>\n",
       "  <tbody>\n",
       "  </tbody>\n",
       "</table><p>"
      ],
      "text/plain": [
       "<IPython.core.display.HTML object>"
      ]
     },
     "metadata": {},
     "output_type": "display_data"
    },
    {
     "data": {
      "text/html": [],
      "text/plain": [
       "<IPython.core.display.HTML object>"
      ]
     },
     "metadata": {},
     "output_type": "display_data"
    },
    {
     "name": "stderr",
     "output_type": "stream",
     "text": [
      "C:\\Users\\a4293604\\AppData\\Local\\Packages\\PythonSoftwareFoundation.Python.3.10_qbz5n2kfra8p0\\LocalCache\\local-packages\\Python310\\site-packages\\torch\\utils\\data\\dataloader.py:665: UserWarning: 'pin_memory' argument is set as true but no accelerator is found, then device pinned memory won't be used.\n",
      "  warnings.warn(warn_msg)\n"
     ]
    },
    {
     "data": {
      "text/html": [],
      "text/plain": [
       "<IPython.core.display.HTML object>"
      ]
     },
     "metadata": {},
     "output_type": "display_data"
    },
    {
     "name": "stdout",
     "output_type": "stream",
     "text": [
      "\n",
      "=== FULL | λ = 0.2, seed = 3 ===\n"
     ]
    },
    {
     "name": "stderr",
     "output_type": "stream",
     "text": [
      "Some weights of BertForSequenceClassification were not initialized from the model checkpoint at bert-base-uncased and are newly initialized: ['classifier.bias', 'classifier.weight']\n",
      "You should probably TRAIN this model on a down-stream task to be able to use it for predictions and inference.\n",
      "C:\\Users\\a4293604\\AppData\\Local\\Temp\\ipykernel_12916\\1901290391.py:243: FutureWarning: `tokenizer` is deprecated and will be removed in version 5.0.0 for `FairnessTrainer.__init__`. Use `processing_class` instead.\n",
      "  super().__init__(**kwargs)\n",
      "C:\\Users\\a4293604\\AppData\\Local\\Packages\\PythonSoftwareFoundation.Python.3.10_qbz5n2kfra8p0\\LocalCache\\local-packages\\Python310\\site-packages\\torch\\utils\\data\\dataloader.py:665: UserWarning: 'pin_memory' argument is set as true but no accelerator is found, then device pinned memory won't be used.\n",
      "  warnings.warn(warn_msg)\n"
     ]
    },
    {
     "data": {
      "text/html": [
       "\n",
       "    <div>\n",
       "      \n",
       "      <progress value='150' max='150' style='width:300px; height:20px; vertical-align: middle;'></progress>\n",
       "      [150/150 31:41, Epoch 0/1]\n",
       "    </div>\n",
       "    <table border=\"1\" class=\"dataframe\">\n",
       "  <thead>\n",
       " <tr style=\"text-align: left;\">\n",
       "      <th>Step</th>\n",
       "      <th>Training Loss</th>\n",
       "      <th>Validation Loss</th>\n",
       "    </tr>\n",
       "  </thead>\n",
       "  <tbody>\n",
       "  </tbody>\n",
       "</table><p>"
      ],
      "text/plain": [
       "<IPython.core.display.HTML object>"
      ]
     },
     "metadata": {},
     "output_type": "display_data"
    },
    {
     "data": {
      "text/html": [],
      "text/plain": [
       "<IPython.core.display.HTML object>"
      ]
     },
     "metadata": {},
     "output_type": "display_data"
    },
    {
     "name": "stderr",
     "output_type": "stream",
     "text": [
      "C:\\Users\\a4293604\\AppData\\Local\\Packages\\PythonSoftwareFoundation.Python.3.10_qbz5n2kfra8p0\\LocalCache\\local-packages\\Python310\\site-packages\\torch\\utils\\data\\dataloader.py:665: UserWarning: 'pin_memory' argument is set as true but no accelerator is found, then device pinned memory won't be used.\n",
      "  warnings.warn(warn_msg)\n"
     ]
    },
    {
     "data": {
      "text/html": [],
      "text/plain": [
       "<IPython.core.display.HTML object>"
      ]
     },
     "metadata": {},
     "output_type": "display_data"
    },
    {
     "name": "stdout",
     "output_type": "stream",
     "text": [
      "\n",
      "=== FULL | λ = 0.5, seed = 1 ===\n"
     ]
    },
    {
     "name": "stderr",
     "output_type": "stream",
     "text": [
      "Some weights of BertForSequenceClassification were not initialized from the model checkpoint at bert-base-uncased and are newly initialized: ['classifier.bias', 'classifier.weight']\n",
      "You should probably TRAIN this model on a down-stream task to be able to use it for predictions and inference.\n",
      "C:\\Users\\a4293604\\AppData\\Local\\Temp\\ipykernel_12916\\1901290391.py:243: FutureWarning: `tokenizer` is deprecated and will be removed in version 5.0.0 for `FairnessTrainer.__init__`. Use `processing_class` instead.\n",
      "  super().__init__(**kwargs)\n",
      "C:\\Users\\a4293604\\AppData\\Local\\Packages\\PythonSoftwareFoundation.Python.3.10_qbz5n2kfra8p0\\LocalCache\\local-packages\\Python310\\site-packages\\torch\\utils\\data\\dataloader.py:665: UserWarning: 'pin_memory' argument is set as true but no accelerator is found, then device pinned memory won't be used.\n",
      "  warnings.warn(warn_msg)\n"
     ]
    },
    {
     "data": {
      "text/html": [
       "\n",
       "    <div>\n",
       "      \n",
       "      <progress value='150' max='150' style='width:300px; height:20px; vertical-align: middle;'></progress>\n",
       "      [150/150 31:30, Epoch 0/1]\n",
       "    </div>\n",
       "    <table border=\"1\" class=\"dataframe\">\n",
       "  <thead>\n",
       " <tr style=\"text-align: left;\">\n",
       "      <th>Step</th>\n",
       "      <th>Training Loss</th>\n",
       "      <th>Validation Loss</th>\n",
       "    </tr>\n",
       "  </thead>\n",
       "  <tbody>\n",
       "  </tbody>\n",
       "</table><p>"
      ],
      "text/plain": [
       "<IPython.core.display.HTML object>"
      ]
     },
     "metadata": {},
     "output_type": "display_data"
    },
    {
     "data": {
      "text/html": [],
      "text/plain": [
       "<IPython.core.display.HTML object>"
      ]
     },
     "metadata": {},
     "output_type": "display_data"
    },
    {
     "name": "stderr",
     "output_type": "stream",
     "text": [
      "C:\\Users\\a4293604\\AppData\\Local\\Packages\\PythonSoftwareFoundation.Python.3.10_qbz5n2kfra8p0\\LocalCache\\local-packages\\Python310\\site-packages\\torch\\utils\\data\\dataloader.py:665: UserWarning: 'pin_memory' argument is set as true but no accelerator is found, then device pinned memory won't be used.\n",
      "  warnings.warn(warn_msg)\n"
     ]
    },
    {
     "data": {
      "text/html": [],
      "text/plain": [
       "<IPython.core.display.HTML object>"
      ]
     },
     "metadata": {},
     "output_type": "display_data"
    },
    {
     "name": "stdout",
     "output_type": "stream",
     "text": [
      "\n",
      "=== FULL | λ = 0.5, seed = 2 ===\n"
     ]
    },
    {
     "name": "stderr",
     "output_type": "stream",
     "text": [
      "Some weights of BertForSequenceClassification were not initialized from the model checkpoint at bert-base-uncased and are newly initialized: ['classifier.bias', 'classifier.weight']\n",
      "You should probably TRAIN this model on a down-stream task to be able to use it for predictions and inference.\n",
      "C:\\Users\\a4293604\\AppData\\Local\\Temp\\ipykernel_12916\\1901290391.py:243: FutureWarning: `tokenizer` is deprecated and will be removed in version 5.0.0 for `FairnessTrainer.__init__`. Use `processing_class` instead.\n",
      "  super().__init__(**kwargs)\n",
      "C:\\Users\\a4293604\\AppData\\Local\\Packages\\PythonSoftwareFoundation.Python.3.10_qbz5n2kfra8p0\\LocalCache\\local-packages\\Python310\\site-packages\\torch\\utils\\data\\dataloader.py:665: UserWarning: 'pin_memory' argument is set as true but no accelerator is found, then device pinned memory won't be used.\n",
      "  warnings.warn(warn_msg)\n"
     ]
    },
    {
     "data": {
      "text/html": [
       "\n",
       "    <div>\n",
       "      \n",
       "      <progress value='150' max='150' style='width:300px; height:20px; vertical-align: middle;'></progress>\n",
       "      [150/150 31:05, Epoch 0/1]\n",
       "    </div>\n",
       "    <table border=\"1\" class=\"dataframe\">\n",
       "  <thead>\n",
       " <tr style=\"text-align: left;\">\n",
       "      <th>Step</th>\n",
       "      <th>Training Loss</th>\n",
       "      <th>Validation Loss</th>\n",
       "    </tr>\n",
       "  </thead>\n",
       "  <tbody>\n",
       "  </tbody>\n",
       "</table><p>"
      ],
      "text/plain": [
       "<IPython.core.display.HTML object>"
      ]
     },
     "metadata": {},
     "output_type": "display_data"
    },
    {
     "data": {
      "text/html": [],
      "text/plain": [
       "<IPython.core.display.HTML object>"
      ]
     },
     "metadata": {},
     "output_type": "display_data"
    },
    {
     "name": "stderr",
     "output_type": "stream",
     "text": [
      "C:\\Users\\a4293604\\AppData\\Local\\Packages\\PythonSoftwareFoundation.Python.3.10_qbz5n2kfra8p0\\LocalCache\\local-packages\\Python310\\site-packages\\torch\\utils\\data\\dataloader.py:665: UserWarning: 'pin_memory' argument is set as true but no accelerator is found, then device pinned memory won't be used.\n",
      "  warnings.warn(warn_msg)\n"
     ]
    },
    {
     "data": {
      "text/html": [],
      "text/plain": [
       "<IPython.core.display.HTML object>"
      ]
     },
     "metadata": {},
     "output_type": "display_data"
    },
    {
     "name": "stdout",
     "output_type": "stream",
     "text": [
      "\n",
      "=== FULL | λ = 0.5, seed = 3 ===\n"
     ]
    },
    {
     "name": "stderr",
     "output_type": "stream",
     "text": [
      "Some weights of BertForSequenceClassification were not initialized from the model checkpoint at bert-base-uncased and are newly initialized: ['classifier.bias', 'classifier.weight']\n",
      "You should probably TRAIN this model on a down-stream task to be able to use it for predictions and inference.\n",
      "C:\\Users\\a4293604\\AppData\\Local\\Temp\\ipykernel_12916\\1901290391.py:243: FutureWarning: `tokenizer` is deprecated and will be removed in version 5.0.0 for `FairnessTrainer.__init__`. Use `processing_class` instead.\n",
      "  super().__init__(**kwargs)\n",
      "C:\\Users\\a4293604\\AppData\\Local\\Packages\\PythonSoftwareFoundation.Python.3.10_qbz5n2kfra8p0\\LocalCache\\local-packages\\Python310\\site-packages\\torch\\utils\\data\\dataloader.py:665: UserWarning: 'pin_memory' argument is set as true but no accelerator is found, then device pinned memory won't be used.\n",
      "  warnings.warn(warn_msg)\n"
     ]
    },
    {
     "data": {
      "text/html": [
       "\n",
       "    <div>\n",
       "      \n",
       "      <progress value='150' max='150' style='width:300px; height:20px; vertical-align: middle;'></progress>\n",
       "      [150/150 31:01, Epoch 0/1]\n",
       "    </div>\n",
       "    <table border=\"1\" class=\"dataframe\">\n",
       "  <thead>\n",
       " <tr style=\"text-align: left;\">\n",
       "      <th>Step</th>\n",
       "      <th>Training Loss</th>\n",
       "      <th>Validation Loss</th>\n",
       "    </tr>\n",
       "  </thead>\n",
       "  <tbody>\n",
       "  </tbody>\n",
       "</table><p>"
      ],
      "text/plain": [
       "<IPython.core.display.HTML object>"
      ]
     },
     "metadata": {},
     "output_type": "display_data"
    },
    {
     "data": {
      "text/html": [],
      "text/plain": [
       "<IPython.core.display.HTML object>"
      ]
     },
     "metadata": {},
     "output_type": "display_data"
    },
    {
     "name": "stderr",
     "output_type": "stream",
     "text": [
      "C:\\Users\\a4293604\\AppData\\Local\\Packages\\PythonSoftwareFoundation.Python.3.10_qbz5n2kfra8p0\\LocalCache\\local-packages\\Python310\\site-packages\\torch\\utils\\data\\dataloader.py:665: UserWarning: 'pin_memory' argument is set as true but no accelerator is found, then device pinned memory won't be used.\n",
      "  warnings.warn(warn_msg)\n"
     ]
    },
    {
     "data": {
      "text/html": [],
      "text/plain": [
       "<IPython.core.display.HTML object>"
      ]
     },
     "metadata": {},
     "output_type": "display_data"
    },
    {
     "name": "stdout",
     "output_type": "stream",
     "text": [
      "\n",
      "=== FULL | λ = 1.0, seed = 1 ===\n"
     ]
    },
    {
     "name": "stderr",
     "output_type": "stream",
     "text": [
      "Some weights of BertForSequenceClassification were not initialized from the model checkpoint at bert-base-uncased and are newly initialized: ['classifier.bias', 'classifier.weight']\n",
      "You should probably TRAIN this model on a down-stream task to be able to use it for predictions and inference.\n",
      "C:\\Users\\a4293604\\AppData\\Local\\Temp\\ipykernel_12916\\1901290391.py:243: FutureWarning: `tokenizer` is deprecated and will be removed in version 5.0.0 for `FairnessTrainer.__init__`. Use `processing_class` instead.\n",
      "  super().__init__(**kwargs)\n",
      "C:\\Users\\a4293604\\AppData\\Local\\Packages\\PythonSoftwareFoundation.Python.3.10_qbz5n2kfra8p0\\LocalCache\\local-packages\\Python310\\site-packages\\torch\\utils\\data\\dataloader.py:665: UserWarning: 'pin_memory' argument is set as true but no accelerator is found, then device pinned memory won't be used.\n",
      "  warnings.warn(warn_msg)\n"
     ]
    },
    {
     "data": {
      "text/html": [
       "\n",
       "    <div>\n",
       "      \n",
       "      <progress value='150' max='150' style='width:300px; height:20px; vertical-align: middle;'></progress>\n",
       "      [150/150 31:39, Epoch 0/1]\n",
       "    </div>\n",
       "    <table border=\"1\" class=\"dataframe\">\n",
       "  <thead>\n",
       " <tr style=\"text-align: left;\">\n",
       "      <th>Step</th>\n",
       "      <th>Training Loss</th>\n",
       "      <th>Validation Loss</th>\n",
       "    </tr>\n",
       "  </thead>\n",
       "  <tbody>\n",
       "  </tbody>\n",
       "</table><p>"
      ],
      "text/plain": [
       "<IPython.core.display.HTML object>"
      ]
     },
     "metadata": {},
     "output_type": "display_data"
    },
    {
     "data": {
      "text/html": [],
      "text/plain": [
       "<IPython.core.display.HTML object>"
      ]
     },
     "metadata": {},
     "output_type": "display_data"
    },
    {
     "name": "stderr",
     "output_type": "stream",
     "text": [
      "C:\\Users\\a4293604\\AppData\\Local\\Packages\\PythonSoftwareFoundation.Python.3.10_qbz5n2kfra8p0\\LocalCache\\local-packages\\Python310\\site-packages\\torch\\utils\\data\\dataloader.py:665: UserWarning: 'pin_memory' argument is set as true but no accelerator is found, then device pinned memory won't be used.\n",
      "  warnings.warn(warn_msg)\n"
     ]
    },
    {
     "data": {
      "text/html": [],
      "text/plain": [
       "<IPython.core.display.HTML object>"
      ]
     },
     "metadata": {},
     "output_type": "display_data"
    },
    {
     "name": "stdout",
     "output_type": "stream",
     "text": [
      "\n",
      "=== FULL | λ = 1.0, seed = 2 ===\n"
     ]
    },
    {
     "name": "stderr",
     "output_type": "stream",
     "text": [
      "Some weights of BertForSequenceClassification were not initialized from the model checkpoint at bert-base-uncased and are newly initialized: ['classifier.bias', 'classifier.weight']\n",
      "You should probably TRAIN this model on a down-stream task to be able to use it for predictions and inference.\n",
      "C:\\Users\\a4293604\\AppData\\Local\\Temp\\ipykernel_12916\\1901290391.py:243: FutureWarning: `tokenizer` is deprecated and will be removed in version 5.0.0 for `FairnessTrainer.__init__`. Use `processing_class` instead.\n",
      "  super().__init__(**kwargs)\n",
      "C:\\Users\\a4293604\\AppData\\Local\\Packages\\PythonSoftwareFoundation.Python.3.10_qbz5n2kfra8p0\\LocalCache\\local-packages\\Python310\\site-packages\\torch\\utils\\data\\dataloader.py:665: UserWarning: 'pin_memory' argument is set as true but no accelerator is found, then device pinned memory won't be used.\n",
      "  warnings.warn(warn_msg)\n"
     ]
    },
    {
     "data": {
      "text/html": [
       "\n",
       "    <div>\n",
       "      \n",
       "      <progress value='150' max='150' style='width:300px; height:20px; vertical-align: middle;'></progress>\n",
       "      [150/150 30:58, Epoch 0/1]\n",
       "    </div>\n",
       "    <table border=\"1\" class=\"dataframe\">\n",
       "  <thead>\n",
       " <tr style=\"text-align: left;\">\n",
       "      <th>Step</th>\n",
       "      <th>Training Loss</th>\n",
       "      <th>Validation Loss</th>\n",
       "    </tr>\n",
       "  </thead>\n",
       "  <tbody>\n",
       "  </tbody>\n",
       "</table><p>"
      ],
      "text/plain": [
       "<IPython.core.display.HTML object>"
      ]
     },
     "metadata": {},
     "output_type": "display_data"
    },
    {
     "data": {
      "text/html": [],
      "text/plain": [
       "<IPython.core.display.HTML object>"
      ]
     },
     "metadata": {},
     "output_type": "display_data"
    },
    {
     "name": "stderr",
     "output_type": "stream",
     "text": [
      "C:\\Users\\a4293604\\AppData\\Local\\Packages\\PythonSoftwareFoundation.Python.3.10_qbz5n2kfra8p0\\LocalCache\\local-packages\\Python310\\site-packages\\torch\\utils\\data\\dataloader.py:665: UserWarning: 'pin_memory' argument is set as true but no accelerator is found, then device pinned memory won't be used.\n",
      "  warnings.warn(warn_msg)\n"
     ]
    },
    {
     "data": {
      "text/html": [],
      "text/plain": [
       "<IPython.core.display.HTML object>"
      ]
     },
     "metadata": {},
     "output_type": "display_data"
    },
    {
     "name": "stdout",
     "output_type": "stream",
     "text": [
      "\n",
      "=== FULL | λ = 1.0, seed = 3 ===\n"
     ]
    },
    {
     "name": "stderr",
     "output_type": "stream",
     "text": [
      "Some weights of BertForSequenceClassification were not initialized from the model checkpoint at bert-base-uncased and are newly initialized: ['classifier.bias', 'classifier.weight']\n",
      "You should probably TRAIN this model on a down-stream task to be able to use it for predictions and inference.\n",
      "C:\\Users\\a4293604\\AppData\\Local\\Temp\\ipykernel_12916\\1901290391.py:243: FutureWarning: `tokenizer` is deprecated and will be removed in version 5.0.0 for `FairnessTrainer.__init__`. Use `processing_class` instead.\n",
      "  super().__init__(**kwargs)\n",
      "C:\\Users\\a4293604\\AppData\\Local\\Packages\\PythonSoftwareFoundation.Python.3.10_qbz5n2kfra8p0\\LocalCache\\local-packages\\Python310\\site-packages\\torch\\utils\\data\\dataloader.py:665: UserWarning: 'pin_memory' argument is set as true but no accelerator is found, then device pinned memory won't be used.\n",
      "  warnings.warn(warn_msg)\n"
     ]
    },
    {
     "data": {
      "text/html": [
       "\n",
       "    <div>\n",
       "      \n",
       "      <progress value='150' max='150' style='width:300px; height:20px; vertical-align: middle;'></progress>\n",
       "      [150/150 33:21, Epoch 0/1]\n",
       "    </div>\n",
       "    <table border=\"1\" class=\"dataframe\">\n",
       "  <thead>\n",
       " <tr style=\"text-align: left;\">\n",
       "      <th>Step</th>\n",
       "      <th>Training Loss</th>\n",
       "      <th>Validation Loss</th>\n",
       "    </tr>\n",
       "  </thead>\n",
       "  <tbody>\n",
       "  </tbody>\n",
       "</table><p>"
      ],
      "text/plain": [
       "<IPython.core.display.HTML object>"
      ]
     },
     "metadata": {},
     "output_type": "display_data"
    },
    {
     "data": {
      "text/html": [],
      "text/plain": [
       "<IPython.core.display.HTML object>"
      ]
     },
     "metadata": {},
     "output_type": "display_data"
    },
    {
     "name": "stderr",
     "output_type": "stream",
     "text": [
      "C:\\Users\\a4293604\\AppData\\Local\\Packages\\PythonSoftwareFoundation.Python.3.10_qbz5n2kfra8p0\\LocalCache\\local-packages\\Python310\\site-packages\\torch\\utils\\data\\dataloader.py:665: UserWarning: 'pin_memory' argument is set as true but no accelerator is found, then device pinned memory won't be used.\n",
      "  warnings.warn(warn_msg)\n"
     ]
    },
    {
     "data": {
      "text/html": [],
      "text/plain": [
       "<IPython.core.display.HTML object>"
      ]
     },
     "metadata": {},
     "output_type": "display_data"
    },
    {
     "name": "stdout",
     "output_type": "stream",
     "text": [
      "\n",
      "=== LoRA | λ = 0.0, seed = 1 ===\n"
     ]
    },
    {
     "name": "stderr",
     "output_type": "stream",
     "text": [
      "Some weights of BertForSequenceClassification were not initialized from the model checkpoint at bert-base-uncased and are newly initialized: ['classifier.bias', 'classifier.weight']\n",
      "You should probably TRAIN this model on a down-stream task to be able to use it for predictions and inference.\n",
      "C:\\Users\\a4293604\\AppData\\Local\\Temp\\ipykernel_12916\\1901290391.py:243: FutureWarning: `tokenizer` is deprecated and will be removed in version 5.0.0 for `FairnessTrainer.__init__`. Use `processing_class` instead.\n",
      "  super().__init__(**kwargs)\n",
      "No label_names provided for model class `PeftModelForSequenceClassification`. Since `PeftModel` hides base models input arguments, if label_names is not given, label_names can't be set automatically within `Trainer`. Note that empty label_names list will be used instead.\n"
     ]
    },
    {
     "name": "stdout",
     "output_type": "stream",
     "text": [
      "trainable params: 1,360,924 || all params: 110,864,696 || trainable%: 1.2276\n"
     ]
    },
    {
     "name": "stderr",
     "output_type": "stream",
     "text": [
      "C:\\Users\\a4293604\\AppData\\Local\\Packages\\PythonSoftwareFoundation.Python.3.10_qbz5n2kfra8p0\\LocalCache\\local-packages\\Python310\\site-packages\\torch\\utils\\data\\dataloader.py:665: UserWarning: 'pin_memory' argument is set as true but no accelerator is found, then device pinned memory won't be used.\n",
      "  warnings.warn(warn_msg)\n"
     ]
    },
    {
     "data": {
      "text/html": [
       "\n",
       "    <div>\n",
       "      \n",
       "      <progress value='150' max='150' style='width:300px; height:20px; vertical-align: middle;'></progress>\n",
       "      [150/150 40:59, Epoch 0/1]\n",
       "    </div>\n",
       "    <table border=\"1\" class=\"dataframe\">\n",
       "  <thead>\n",
       " <tr style=\"text-align: left;\">\n",
       "      <th>Step</th>\n",
       "      <th>Training Loss</th>\n",
       "      <th>Validation Loss</th>\n",
       "    </tr>\n",
       "  </thead>\n",
       "  <tbody>\n",
       "  </tbody>\n",
       "</table><p>"
      ],
      "text/plain": [
       "<IPython.core.display.HTML object>"
      ]
     },
     "metadata": {},
     "output_type": "display_data"
    },
    {
     "data": {
      "text/html": [],
      "text/plain": [
       "<IPython.core.display.HTML object>"
      ]
     },
     "metadata": {},
     "output_type": "display_data"
    },
    {
     "name": "stderr",
     "output_type": "stream",
     "text": [
      "C:\\Users\\a4293604\\AppData\\Local\\Packages\\PythonSoftwareFoundation.Python.3.10_qbz5n2kfra8p0\\LocalCache\\local-packages\\Python310\\site-packages\\torch\\utils\\data\\dataloader.py:665: UserWarning: 'pin_memory' argument is set as true but no accelerator is found, then device pinned memory won't be used.\n",
      "  warnings.warn(warn_msg)\n"
     ]
    },
    {
     "data": {
      "text/html": [],
      "text/plain": [
       "<IPython.core.display.HTML object>"
      ]
     },
     "metadata": {},
     "output_type": "display_data"
    },
    {
     "name": "stdout",
     "output_type": "stream",
     "text": [
      "\n",
      "=== LoRA | λ = 0.0, seed = 2 ===\n"
     ]
    },
    {
     "name": "stderr",
     "output_type": "stream",
     "text": [
      "Some weights of BertForSequenceClassification were not initialized from the model checkpoint at bert-base-uncased and are newly initialized: ['classifier.bias', 'classifier.weight']\n",
      "You should probably TRAIN this model on a down-stream task to be able to use it for predictions and inference.\n",
      "C:\\Users\\a4293604\\AppData\\Local\\Temp\\ipykernel_12916\\1901290391.py:243: FutureWarning: `tokenizer` is deprecated and will be removed in version 5.0.0 for `FairnessTrainer.__init__`. Use `processing_class` instead.\n",
      "  super().__init__(**kwargs)\n",
      "No label_names provided for model class `PeftModelForSequenceClassification`. Since `PeftModel` hides base models input arguments, if label_names is not given, label_names can't be set automatically within `Trainer`. Note that empty label_names list will be used instead.\n"
     ]
    },
    {
     "name": "stdout",
     "output_type": "stream",
     "text": [
      "trainable params: 1,360,924 || all params: 110,864,696 || trainable%: 1.2276\n"
     ]
    },
    {
     "name": "stderr",
     "output_type": "stream",
     "text": [
      "C:\\Users\\a4293604\\AppData\\Local\\Packages\\PythonSoftwareFoundation.Python.3.10_qbz5n2kfra8p0\\LocalCache\\local-packages\\Python310\\site-packages\\torch\\utils\\data\\dataloader.py:665: UserWarning: 'pin_memory' argument is set as true but no accelerator is found, then device pinned memory won't be used.\n",
      "  warnings.warn(warn_msg)\n"
     ]
    },
    {
     "data": {
      "text/html": [
       "\n",
       "    <div>\n",
       "      \n",
       "      <progress value='150' max='150' style='width:300px; height:20px; vertical-align: middle;'></progress>\n",
       "      [150/150 38:25, Epoch 0/1]\n",
       "    </div>\n",
       "    <table border=\"1\" class=\"dataframe\">\n",
       "  <thead>\n",
       " <tr style=\"text-align: left;\">\n",
       "      <th>Step</th>\n",
       "      <th>Training Loss</th>\n",
       "      <th>Validation Loss</th>\n",
       "    </tr>\n",
       "  </thead>\n",
       "  <tbody>\n",
       "  </tbody>\n",
       "</table><p>"
      ],
      "text/plain": [
       "<IPython.core.display.HTML object>"
      ]
     },
     "metadata": {},
     "output_type": "display_data"
    },
    {
     "data": {
      "text/html": [],
      "text/plain": [
       "<IPython.core.display.HTML object>"
      ]
     },
     "metadata": {},
     "output_type": "display_data"
    },
    {
     "name": "stderr",
     "output_type": "stream",
     "text": [
      "C:\\Users\\a4293604\\AppData\\Local\\Packages\\PythonSoftwareFoundation.Python.3.10_qbz5n2kfra8p0\\LocalCache\\local-packages\\Python310\\site-packages\\torch\\utils\\data\\dataloader.py:665: UserWarning: 'pin_memory' argument is set as true but no accelerator is found, then device pinned memory won't be used.\n",
      "  warnings.warn(warn_msg)\n"
     ]
    },
    {
     "data": {
      "text/html": [],
      "text/plain": [
       "<IPython.core.display.HTML object>"
      ]
     },
     "metadata": {},
     "output_type": "display_data"
    },
    {
     "name": "stdout",
     "output_type": "stream",
     "text": [
      "\n",
      "=== LoRA | λ = 0.0, seed = 3 ===\n"
     ]
    },
    {
     "name": "stderr",
     "output_type": "stream",
     "text": [
      "Some weights of BertForSequenceClassification were not initialized from the model checkpoint at bert-base-uncased and are newly initialized: ['classifier.bias', 'classifier.weight']\n",
      "You should probably TRAIN this model on a down-stream task to be able to use it for predictions and inference.\n",
      "C:\\Users\\a4293604\\AppData\\Local\\Temp\\ipykernel_12916\\1901290391.py:243: FutureWarning: `tokenizer` is deprecated and will be removed in version 5.0.0 for `FairnessTrainer.__init__`. Use `processing_class` instead.\n",
      "  super().__init__(**kwargs)\n",
      "No label_names provided for model class `PeftModelForSequenceClassification`. Since `PeftModel` hides base models input arguments, if label_names is not given, label_names can't be set automatically within `Trainer`. Note that empty label_names list will be used instead.\n"
     ]
    },
    {
     "name": "stdout",
     "output_type": "stream",
     "text": [
      "trainable params: 1,360,924 || all params: 110,864,696 || trainable%: 1.2276\n"
     ]
    },
    {
     "name": "stderr",
     "output_type": "stream",
     "text": [
      "C:\\Users\\a4293604\\AppData\\Local\\Packages\\PythonSoftwareFoundation.Python.3.10_qbz5n2kfra8p0\\LocalCache\\local-packages\\Python310\\site-packages\\torch\\utils\\data\\dataloader.py:665: UserWarning: 'pin_memory' argument is set as true but no accelerator is found, then device pinned memory won't be used.\n",
      "  warnings.warn(warn_msg)\n"
     ]
    },
    {
     "data": {
      "text/html": [
       "\n",
       "    <div>\n",
       "      \n",
       "      <progress value='150' max='150' style='width:300px; height:20px; vertical-align: middle;'></progress>\n",
       "      [150/150 40:58, Epoch 0/1]\n",
       "    </div>\n",
       "    <table border=\"1\" class=\"dataframe\">\n",
       "  <thead>\n",
       " <tr style=\"text-align: left;\">\n",
       "      <th>Step</th>\n",
       "      <th>Training Loss</th>\n",
       "      <th>Validation Loss</th>\n",
       "    </tr>\n",
       "  </thead>\n",
       "  <tbody>\n",
       "  </tbody>\n",
       "</table><p>"
      ],
      "text/plain": [
       "<IPython.core.display.HTML object>"
      ]
     },
     "metadata": {},
     "output_type": "display_data"
    },
    {
     "data": {
      "text/html": [],
      "text/plain": [
       "<IPython.core.display.HTML object>"
      ]
     },
     "metadata": {},
     "output_type": "display_data"
    },
    {
     "name": "stderr",
     "output_type": "stream",
     "text": [
      "C:\\Users\\a4293604\\AppData\\Local\\Packages\\PythonSoftwareFoundation.Python.3.10_qbz5n2kfra8p0\\LocalCache\\local-packages\\Python310\\site-packages\\torch\\utils\\data\\dataloader.py:665: UserWarning: 'pin_memory' argument is set as true but no accelerator is found, then device pinned memory won't be used.\n",
      "  warnings.warn(warn_msg)\n"
     ]
    },
    {
     "data": {
      "text/html": [],
      "text/plain": [
       "<IPython.core.display.HTML object>"
      ]
     },
     "metadata": {},
     "output_type": "display_data"
    },
    {
     "name": "stdout",
     "output_type": "stream",
     "text": [
      "\n",
      "=== LoRA | λ = 0.05, seed = 1 ===\n"
     ]
    },
    {
     "name": "stderr",
     "output_type": "stream",
     "text": [
      "Some weights of BertForSequenceClassification were not initialized from the model checkpoint at bert-base-uncased and are newly initialized: ['classifier.bias', 'classifier.weight']\n",
      "You should probably TRAIN this model on a down-stream task to be able to use it for predictions and inference.\n",
      "C:\\Users\\a4293604\\AppData\\Local\\Temp\\ipykernel_12916\\1901290391.py:243: FutureWarning: `tokenizer` is deprecated and will be removed in version 5.0.0 for `FairnessTrainer.__init__`. Use `processing_class` instead.\n",
      "  super().__init__(**kwargs)\n",
      "No label_names provided for model class `PeftModelForSequenceClassification`. Since `PeftModel` hides base models input arguments, if label_names is not given, label_names can't be set automatically within `Trainer`. Note that empty label_names list will be used instead.\n"
     ]
    },
    {
     "name": "stdout",
     "output_type": "stream",
     "text": [
      "trainable params: 1,360,924 || all params: 110,864,696 || trainable%: 1.2276\n"
     ]
    },
    {
     "name": "stderr",
     "output_type": "stream",
     "text": [
      "C:\\Users\\a4293604\\AppData\\Local\\Packages\\PythonSoftwareFoundation.Python.3.10_qbz5n2kfra8p0\\LocalCache\\local-packages\\Python310\\site-packages\\torch\\utils\\data\\dataloader.py:665: UserWarning: 'pin_memory' argument is set as true but no accelerator is found, then device pinned memory won't be used.\n",
      "  warnings.warn(warn_msg)\n"
     ]
    },
    {
     "data": {
      "text/html": [
       "\n",
       "    <div>\n",
       "      \n",
       "      <progress value='150' max='150' style='width:300px; height:20px; vertical-align: middle;'></progress>\n",
       "      [150/150 40:57, Epoch 0/1]\n",
       "    </div>\n",
       "    <table border=\"1\" class=\"dataframe\">\n",
       "  <thead>\n",
       " <tr style=\"text-align: left;\">\n",
       "      <th>Step</th>\n",
       "      <th>Training Loss</th>\n",
       "      <th>Validation Loss</th>\n",
       "    </tr>\n",
       "  </thead>\n",
       "  <tbody>\n",
       "  </tbody>\n",
       "</table><p>"
      ],
      "text/plain": [
       "<IPython.core.display.HTML object>"
      ]
     },
     "metadata": {},
     "output_type": "display_data"
    },
    {
     "data": {
      "text/html": [],
      "text/plain": [
       "<IPython.core.display.HTML object>"
      ]
     },
     "metadata": {},
     "output_type": "display_data"
    },
    {
     "name": "stderr",
     "output_type": "stream",
     "text": [
      "C:\\Users\\a4293604\\AppData\\Local\\Packages\\PythonSoftwareFoundation.Python.3.10_qbz5n2kfra8p0\\LocalCache\\local-packages\\Python310\\site-packages\\torch\\utils\\data\\dataloader.py:665: UserWarning: 'pin_memory' argument is set as true but no accelerator is found, then device pinned memory won't be used.\n",
      "  warnings.warn(warn_msg)\n"
     ]
    },
    {
     "data": {
      "text/html": [],
      "text/plain": [
       "<IPython.core.display.HTML object>"
      ]
     },
     "metadata": {},
     "output_type": "display_data"
    },
    {
     "name": "stdout",
     "output_type": "stream",
     "text": [
      "\n",
      "=== LoRA | λ = 0.05, seed = 2 ===\n"
     ]
    },
    {
     "name": "stderr",
     "output_type": "stream",
     "text": [
      "Some weights of BertForSequenceClassification were not initialized from the model checkpoint at bert-base-uncased and are newly initialized: ['classifier.bias', 'classifier.weight']\n",
      "You should probably TRAIN this model on a down-stream task to be able to use it for predictions and inference.\n",
      "C:\\Users\\a4293604\\AppData\\Local\\Temp\\ipykernel_12916\\1901290391.py:243: FutureWarning: `tokenizer` is deprecated and will be removed in version 5.0.0 for `FairnessTrainer.__init__`. Use `processing_class` instead.\n",
      "  super().__init__(**kwargs)\n",
      "No label_names provided for model class `PeftModelForSequenceClassification`. Since `PeftModel` hides base models input arguments, if label_names is not given, label_names can't be set automatically within `Trainer`. Note that empty label_names list will be used instead.\n"
     ]
    },
    {
     "name": "stdout",
     "output_type": "stream",
     "text": [
      "trainable params: 1,360,924 || all params: 110,864,696 || trainable%: 1.2276\n"
     ]
    },
    {
     "name": "stderr",
     "output_type": "stream",
     "text": [
      "C:\\Users\\a4293604\\AppData\\Local\\Packages\\PythonSoftwareFoundation.Python.3.10_qbz5n2kfra8p0\\LocalCache\\local-packages\\Python310\\site-packages\\torch\\utils\\data\\dataloader.py:665: UserWarning: 'pin_memory' argument is set as true but no accelerator is found, then device pinned memory won't be used.\n",
      "  warnings.warn(warn_msg)\n"
     ]
    },
    {
     "data": {
      "text/html": [
       "\n",
       "    <div>\n",
       "      \n",
       "      <progress value='150' max='150' style='width:300px; height:20px; vertical-align: middle;'></progress>\n",
       "      [150/150 41:58, Epoch 0/1]\n",
       "    </div>\n",
       "    <table border=\"1\" class=\"dataframe\">\n",
       "  <thead>\n",
       " <tr style=\"text-align: left;\">\n",
       "      <th>Step</th>\n",
       "      <th>Training Loss</th>\n",
       "      <th>Validation Loss</th>\n",
       "    </tr>\n",
       "  </thead>\n",
       "  <tbody>\n",
       "  </tbody>\n",
       "</table><p>"
      ],
      "text/plain": [
       "<IPython.core.display.HTML object>"
      ]
     },
     "metadata": {},
     "output_type": "display_data"
    },
    {
     "data": {
      "text/html": [],
      "text/plain": [
       "<IPython.core.display.HTML object>"
      ]
     },
     "metadata": {},
     "output_type": "display_data"
    },
    {
     "name": "stderr",
     "output_type": "stream",
     "text": [
      "C:\\Users\\a4293604\\AppData\\Local\\Packages\\PythonSoftwareFoundation.Python.3.10_qbz5n2kfra8p0\\LocalCache\\local-packages\\Python310\\site-packages\\torch\\utils\\data\\dataloader.py:665: UserWarning: 'pin_memory' argument is set as true but no accelerator is found, then device pinned memory won't be used.\n",
      "  warnings.warn(warn_msg)\n"
     ]
    },
    {
     "data": {
      "text/html": [],
      "text/plain": [
       "<IPython.core.display.HTML object>"
      ]
     },
     "metadata": {},
     "output_type": "display_data"
    },
    {
     "name": "stdout",
     "output_type": "stream",
     "text": [
      "\n",
      "=== LoRA | λ = 0.05, seed = 3 ===\n"
     ]
    },
    {
     "name": "stderr",
     "output_type": "stream",
     "text": [
      "Some weights of BertForSequenceClassification were not initialized from the model checkpoint at bert-base-uncased and are newly initialized: ['classifier.bias', 'classifier.weight']\n",
      "You should probably TRAIN this model on a down-stream task to be able to use it for predictions and inference.\n",
      "C:\\Users\\a4293604\\AppData\\Local\\Temp\\ipykernel_12916\\1901290391.py:243: FutureWarning: `tokenizer` is deprecated and will be removed in version 5.0.0 for `FairnessTrainer.__init__`. Use `processing_class` instead.\n",
      "  super().__init__(**kwargs)\n",
      "No label_names provided for model class `PeftModelForSequenceClassification`. Since `PeftModel` hides base models input arguments, if label_names is not given, label_names can't be set automatically within `Trainer`. Note that empty label_names list will be used instead.\n"
     ]
    },
    {
     "name": "stdout",
     "output_type": "stream",
     "text": [
      "trainable params: 1,360,924 || all params: 110,864,696 || trainable%: 1.2276\n"
     ]
    },
    {
     "name": "stderr",
     "output_type": "stream",
     "text": [
      "C:\\Users\\a4293604\\AppData\\Local\\Packages\\PythonSoftwareFoundation.Python.3.10_qbz5n2kfra8p0\\LocalCache\\local-packages\\Python310\\site-packages\\torch\\utils\\data\\dataloader.py:665: UserWarning: 'pin_memory' argument is set as true but no accelerator is found, then device pinned memory won't be used.\n",
      "  warnings.warn(warn_msg)\n"
     ]
    },
    {
     "data": {
      "text/html": [
       "\n",
       "    <div>\n",
       "      \n",
       "      <progress value='150' max='150' style='width:300px; height:20px; vertical-align: middle;'></progress>\n",
       "      [150/150 39:38, Epoch 0/1]\n",
       "    </div>\n",
       "    <table border=\"1\" class=\"dataframe\">\n",
       "  <thead>\n",
       " <tr style=\"text-align: left;\">\n",
       "      <th>Step</th>\n",
       "      <th>Training Loss</th>\n",
       "      <th>Validation Loss</th>\n",
       "    </tr>\n",
       "  </thead>\n",
       "  <tbody>\n",
       "  </tbody>\n",
       "</table><p>"
      ],
      "text/plain": [
       "<IPython.core.display.HTML object>"
      ]
     },
     "metadata": {},
     "output_type": "display_data"
    },
    {
     "data": {
      "text/html": [],
      "text/plain": [
       "<IPython.core.display.HTML object>"
      ]
     },
     "metadata": {},
     "output_type": "display_data"
    },
    {
     "name": "stderr",
     "output_type": "stream",
     "text": [
      "C:\\Users\\a4293604\\AppData\\Local\\Packages\\PythonSoftwareFoundation.Python.3.10_qbz5n2kfra8p0\\LocalCache\\local-packages\\Python310\\site-packages\\torch\\utils\\data\\dataloader.py:665: UserWarning: 'pin_memory' argument is set as true but no accelerator is found, then device pinned memory won't be used.\n",
      "  warnings.warn(warn_msg)\n"
     ]
    },
    {
     "data": {
      "text/html": [],
      "text/plain": [
       "<IPython.core.display.HTML object>"
      ]
     },
     "metadata": {},
     "output_type": "display_data"
    },
    {
     "name": "stdout",
     "output_type": "stream",
     "text": [
      "\n",
      "=== LoRA | λ = 0.1, seed = 1 ===\n"
     ]
    },
    {
     "name": "stderr",
     "output_type": "stream",
     "text": [
      "Some weights of BertForSequenceClassification were not initialized from the model checkpoint at bert-base-uncased and are newly initialized: ['classifier.bias', 'classifier.weight']\n",
      "You should probably TRAIN this model on a down-stream task to be able to use it for predictions and inference.\n",
      "C:\\Users\\a4293604\\AppData\\Local\\Temp\\ipykernel_12916\\1901290391.py:243: FutureWarning: `tokenizer` is deprecated and will be removed in version 5.0.0 for `FairnessTrainer.__init__`. Use `processing_class` instead.\n",
      "  super().__init__(**kwargs)\n",
      "No label_names provided for model class `PeftModelForSequenceClassification`. Since `PeftModel` hides base models input arguments, if label_names is not given, label_names can't be set automatically within `Trainer`. Note that empty label_names list will be used instead.\n"
     ]
    },
    {
     "name": "stdout",
     "output_type": "stream",
     "text": [
      "trainable params: 1,360,924 || all params: 110,864,696 || trainable%: 1.2276\n"
     ]
    },
    {
     "name": "stderr",
     "output_type": "stream",
     "text": [
      "C:\\Users\\a4293604\\AppData\\Local\\Packages\\PythonSoftwareFoundation.Python.3.10_qbz5n2kfra8p0\\LocalCache\\local-packages\\Python310\\site-packages\\torch\\utils\\data\\dataloader.py:665: UserWarning: 'pin_memory' argument is set as true but no accelerator is found, then device pinned memory won't be used.\n",
      "  warnings.warn(warn_msg)\n"
     ]
    },
    {
     "data": {
      "text/html": [
       "\n",
       "    <div>\n",
       "      \n",
       "      <progress value='150' max='150' style='width:300px; height:20px; vertical-align: middle;'></progress>\n",
       "      [150/150 41:44, Epoch 0/1]\n",
       "    </div>\n",
       "    <table border=\"1\" class=\"dataframe\">\n",
       "  <thead>\n",
       " <tr style=\"text-align: left;\">\n",
       "      <th>Step</th>\n",
       "      <th>Training Loss</th>\n",
       "      <th>Validation Loss</th>\n",
       "    </tr>\n",
       "  </thead>\n",
       "  <tbody>\n",
       "  </tbody>\n",
       "</table><p>"
      ],
      "text/plain": [
       "<IPython.core.display.HTML object>"
      ]
     },
     "metadata": {},
     "output_type": "display_data"
    },
    {
     "data": {
      "text/html": [],
      "text/plain": [
       "<IPython.core.display.HTML object>"
      ]
     },
     "metadata": {},
     "output_type": "display_data"
    },
    {
     "name": "stderr",
     "output_type": "stream",
     "text": [
      "C:\\Users\\a4293604\\AppData\\Local\\Packages\\PythonSoftwareFoundation.Python.3.10_qbz5n2kfra8p0\\LocalCache\\local-packages\\Python310\\site-packages\\torch\\utils\\data\\dataloader.py:665: UserWarning: 'pin_memory' argument is set as true but no accelerator is found, then device pinned memory won't be used.\n",
      "  warnings.warn(warn_msg)\n"
     ]
    },
    {
     "data": {
      "text/html": [],
      "text/plain": [
       "<IPython.core.display.HTML object>"
      ]
     },
     "metadata": {},
     "output_type": "display_data"
    },
    {
     "name": "stdout",
     "output_type": "stream",
     "text": [
      "\n",
      "=== LoRA | λ = 0.1, seed = 2 ===\n"
     ]
    },
    {
     "name": "stderr",
     "output_type": "stream",
     "text": [
      "Some weights of BertForSequenceClassification were not initialized from the model checkpoint at bert-base-uncased and are newly initialized: ['classifier.bias', 'classifier.weight']\n",
      "You should probably TRAIN this model on a down-stream task to be able to use it for predictions and inference.\n",
      "C:\\Users\\a4293604\\AppData\\Local\\Temp\\ipykernel_12916\\1901290391.py:243: FutureWarning: `tokenizer` is deprecated and will be removed in version 5.0.0 for `FairnessTrainer.__init__`. Use `processing_class` instead.\n",
      "  super().__init__(**kwargs)\n",
      "No label_names provided for model class `PeftModelForSequenceClassification`. Since `PeftModel` hides base models input arguments, if label_names is not given, label_names can't be set automatically within `Trainer`. Note that empty label_names list will be used instead.\n"
     ]
    },
    {
     "name": "stdout",
     "output_type": "stream",
     "text": [
      "trainable params: 1,360,924 || all params: 110,864,696 || trainable%: 1.2276\n"
     ]
    },
    {
     "name": "stderr",
     "output_type": "stream",
     "text": [
      "C:\\Users\\a4293604\\AppData\\Local\\Packages\\PythonSoftwareFoundation.Python.3.10_qbz5n2kfra8p0\\LocalCache\\local-packages\\Python310\\site-packages\\torch\\utils\\data\\dataloader.py:665: UserWarning: 'pin_memory' argument is set as true but no accelerator is found, then device pinned memory won't be used.\n",
      "  warnings.warn(warn_msg)\n"
     ]
    },
    {
     "data": {
      "text/html": [
       "\n",
       "    <div>\n",
       "      \n",
       "      <progress value='150' max='150' style='width:300px; height:20px; vertical-align: middle;'></progress>\n",
       "      [150/150 44:00, Epoch 0/1]\n",
       "    </div>\n",
       "    <table border=\"1\" class=\"dataframe\">\n",
       "  <thead>\n",
       " <tr style=\"text-align: left;\">\n",
       "      <th>Step</th>\n",
       "      <th>Training Loss</th>\n",
       "      <th>Validation Loss</th>\n",
       "    </tr>\n",
       "  </thead>\n",
       "  <tbody>\n",
       "  </tbody>\n",
       "</table><p>"
      ],
      "text/plain": [
       "<IPython.core.display.HTML object>"
      ]
     },
     "metadata": {},
     "output_type": "display_data"
    },
    {
     "data": {
      "text/html": [],
      "text/plain": [
       "<IPython.core.display.HTML object>"
      ]
     },
     "metadata": {},
     "output_type": "display_data"
    },
    {
     "name": "stderr",
     "output_type": "stream",
     "text": [
      "C:\\Users\\a4293604\\AppData\\Local\\Packages\\PythonSoftwareFoundation.Python.3.10_qbz5n2kfra8p0\\LocalCache\\local-packages\\Python310\\site-packages\\torch\\utils\\data\\dataloader.py:665: UserWarning: 'pin_memory' argument is set as true but no accelerator is found, then device pinned memory won't be used.\n",
      "  warnings.warn(warn_msg)\n"
     ]
    },
    {
     "data": {
      "text/html": [],
      "text/plain": [
       "<IPython.core.display.HTML object>"
      ]
     },
     "metadata": {},
     "output_type": "display_data"
    },
    {
     "name": "stdout",
     "output_type": "stream",
     "text": [
      "\n",
      "=== LoRA | λ = 0.1, seed = 3 ===\n"
     ]
    },
    {
     "name": "stderr",
     "output_type": "stream",
     "text": [
      "Some weights of BertForSequenceClassification were not initialized from the model checkpoint at bert-base-uncased and are newly initialized: ['classifier.bias', 'classifier.weight']\n",
      "You should probably TRAIN this model on a down-stream task to be able to use it for predictions and inference.\n",
      "C:\\Users\\a4293604\\AppData\\Local\\Temp\\ipykernel_12916\\1901290391.py:243: FutureWarning: `tokenizer` is deprecated and will be removed in version 5.0.0 for `FairnessTrainer.__init__`. Use `processing_class` instead.\n",
      "  super().__init__(**kwargs)\n",
      "No label_names provided for model class `PeftModelForSequenceClassification`. Since `PeftModel` hides base models input arguments, if label_names is not given, label_names can't be set automatically within `Trainer`. Note that empty label_names list will be used instead.\n"
     ]
    },
    {
     "name": "stdout",
     "output_type": "stream",
     "text": [
      "trainable params: 1,360,924 || all params: 110,864,696 || trainable%: 1.2276\n"
     ]
    },
    {
     "name": "stderr",
     "output_type": "stream",
     "text": [
      "C:\\Users\\a4293604\\AppData\\Local\\Packages\\PythonSoftwareFoundation.Python.3.10_qbz5n2kfra8p0\\LocalCache\\local-packages\\Python310\\site-packages\\torch\\utils\\data\\dataloader.py:665: UserWarning: 'pin_memory' argument is set as true but no accelerator is found, then device pinned memory won't be used.\n",
      "  warnings.warn(warn_msg)\n"
     ]
    },
    {
     "data": {
      "text/html": [
       "\n",
       "    <div>\n",
       "      \n",
       "      <progress value='150' max='150' style='width:300px; height:20px; vertical-align: middle;'></progress>\n",
       "      [150/150 44:09, Epoch 0/1]\n",
       "    </div>\n",
       "    <table border=\"1\" class=\"dataframe\">\n",
       "  <thead>\n",
       " <tr style=\"text-align: left;\">\n",
       "      <th>Step</th>\n",
       "      <th>Training Loss</th>\n",
       "      <th>Validation Loss</th>\n",
       "    </tr>\n",
       "  </thead>\n",
       "  <tbody>\n",
       "  </tbody>\n",
       "</table><p>"
      ],
      "text/plain": [
       "<IPython.core.display.HTML object>"
      ]
     },
     "metadata": {},
     "output_type": "display_data"
    },
    {
     "data": {
      "text/html": [],
      "text/plain": [
       "<IPython.core.display.HTML object>"
      ]
     },
     "metadata": {},
     "output_type": "display_data"
    },
    {
     "name": "stderr",
     "output_type": "stream",
     "text": [
      "C:\\Users\\a4293604\\AppData\\Local\\Packages\\PythonSoftwareFoundation.Python.3.10_qbz5n2kfra8p0\\LocalCache\\local-packages\\Python310\\site-packages\\torch\\utils\\data\\dataloader.py:665: UserWarning: 'pin_memory' argument is set as true but no accelerator is found, then device pinned memory won't be used.\n",
      "  warnings.warn(warn_msg)\n"
     ]
    },
    {
     "data": {
      "text/html": [],
      "text/plain": [
       "<IPython.core.display.HTML object>"
      ]
     },
     "metadata": {},
     "output_type": "display_data"
    },
    {
     "name": "stdout",
     "output_type": "stream",
     "text": [
      "\n",
      "=== LoRA | λ = 0.2, seed = 1 ===\n"
     ]
    },
    {
     "name": "stderr",
     "output_type": "stream",
     "text": [
      "Some weights of BertForSequenceClassification were not initialized from the model checkpoint at bert-base-uncased and are newly initialized: ['classifier.bias', 'classifier.weight']\n",
      "You should probably TRAIN this model on a down-stream task to be able to use it for predictions and inference.\n",
      "C:\\Users\\a4293604\\AppData\\Local\\Temp\\ipykernel_12916\\1901290391.py:243: FutureWarning: `tokenizer` is deprecated and will be removed in version 5.0.0 for `FairnessTrainer.__init__`. Use `processing_class` instead.\n",
      "  super().__init__(**kwargs)\n",
      "No label_names provided for model class `PeftModelForSequenceClassification`. Since `PeftModel` hides base models input arguments, if label_names is not given, label_names can't be set automatically within `Trainer`. Note that empty label_names list will be used instead.\n"
     ]
    },
    {
     "name": "stdout",
     "output_type": "stream",
     "text": [
      "trainable params: 1,360,924 || all params: 110,864,696 || trainable%: 1.2276\n"
     ]
    },
    {
     "name": "stderr",
     "output_type": "stream",
     "text": [
      "C:\\Users\\a4293604\\AppData\\Local\\Packages\\PythonSoftwareFoundation.Python.3.10_qbz5n2kfra8p0\\LocalCache\\local-packages\\Python310\\site-packages\\torch\\utils\\data\\dataloader.py:665: UserWarning: 'pin_memory' argument is set as true but no accelerator is found, then device pinned memory won't be used.\n",
      "  warnings.warn(warn_msg)\n"
     ]
    },
    {
     "data": {
      "text/html": [
       "\n",
       "    <div>\n",
       "      \n",
       "      <progress value='150' max='150' style='width:300px; height:20px; vertical-align: middle;'></progress>\n",
       "      [150/150 39:53, Epoch 0/1]\n",
       "    </div>\n",
       "    <table border=\"1\" class=\"dataframe\">\n",
       "  <thead>\n",
       " <tr style=\"text-align: left;\">\n",
       "      <th>Step</th>\n",
       "      <th>Training Loss</th>\n",
       "      <th>Validation Loss</th>\n",
       "    </tr>\n",
       "  </thead>\n",
       "  <tbody>\n",
       "  </tbody>\n",
       "</table><p>"
      ],
      "text/plain": [
       "<IPython.core.display.HTML object>"
      ]
     },
     "metadata": {},
     "output_type": "display_data"
    },
    {
     "data": {
      "text/html": [],
      "text/plain": [
       "<IPython.core.display.HTML object>"
      ]
     },
     "metadata": {},
     "output_type": "display_data"
    },
    {
     "name": "stderr",
     "output_type": "stream",
     "text": [
      "C:\\Users\\a4293604\\AppData\\Local\\Packages\\PythonSoftwareFoundation.Python.3.10_qbz5n2kfra8p0\\LocalCache\\local-packages\\Python310\\site-packages\\torch\\utils\\data\\dataloader.py:665: UserWarning: 'pin_memory' argument is set as true but no accelerator is found, then device pinned memory won't be used.\n",
      "  warnings.warn(warn_msg)\n"
     ]
    },
    {
     "data": {
      "text/html": [],
      "text/plain": [
       "<IPython.core.display.HTML object>"
      ]
     },
     "metadata": {},
     "output_type": "display_data"
    },
    {
     "name": "stdout",
     "output_type": "stream",
     "text": [
      "\n",
      "=== LoRA | λ = 0.2, seed = 2 ===\n"
     ]
    },
    {
     "name": "stderr",
     "output_type": "stream",
     "text": [
      "Some weights of BertForSequenceClassification were not initialized from the model checkpoint at bert-base-uncased and are newly initialized: ['classifier.bias', 'classifier.weight']\n",
      "You should probably TRAIN this model on a down-stream task to be able to use it for predictions and inference.\n",
      "C:\\Users\\a4293604\\AppData\\Local\\Temp\\ipykernel_12916\\1901290391.py:243: FutureWarning: `tokenizer` is deprecated and will be removed in version 5.0.0 for `FairnessTrainer.__init__`. Use `processing_class` instead.\n",
      "  super().__init__(**kwargs)\n",
      "No label_names provided for model class `PeftModelForSequenceClassification`. Since `PeftModel` hides base models input arguments, if label_names is not given, label_names can't be set automatically within `Trainer`. Note that empty label_names list will be used instead.\n"
     ]
    },
    {
     "name": "stdout",
     "output_type": "stream",
     "text": [
      "trainable params: 1,360,924 || all params: 110,864,696 || trainable%: 1.2276\n"
     ]
    },
    {
     "name": "stderr",
     "output_type": "stream",
     "text": [
      "C:\\Users\\a4293604\\AppData\\Local\\Packages\\PythonSoftwareFoundation.Python.3.10_qbz5n2kfra8p0\\LocalCache\\local-packages\\Python310\\site-packages\\torch\\utils\\data\\dataloader.py:665: UserWarning: 'pin_memory' argument is set as true but no accelerator is found, then device pinned memory won't be used.\n",
      "  warnings.warn(warn_msg)\n"
     ]
    },
    {
     "data": {
      "text/html": [
       "\n",
       "    <div>\n",
       "      \n",
       "      <progress value='150' max='150' style='width:300px; height:20px; vertical-align: middle;'></progress>\n",
       "      [150/150 39:32, Epoch 0/1]\n",
       "    </div>\n",
       "    <table border=\"1\" class=\"dataframe\">\n",
       "  <thead>\n",
       " <tr style=\"text-align: left;\">\n",
       "      <th>Step</th>\n",
       "      <th>Training Loss</th>\n",
       "      <th>Validation Loss</th>\n",
       "    </tr>\n",
       "  </thead>\n",
       "  <tbody>\n",
       "  </tbody>\n",
       "</table><p>"
      ],
      "text/plain": [
       "<IPython.core.display.HTML object>"
      ]
     },
     "metadata": {},
     "output_type": "display_data"
    },
    {
     "data": {
      "text/html": [],
      "text/plain": [
       "<IPython.core.display.HTML object>"
      ]
     },
     "metadata": {},
     "output_type": "display_data"
    },
    {
     "name": "stderr",
     "output_type": "stream",
     "text": [
      "C:\\Users\\a4293604\\AppData\\Local\\Packages\\PythonSoftwareFoundation.Python.3.10_qbz5n2kfra8p0\\LocalCache\\local-packages\\Python310\\site-packages\\torch\\utils\\data\\dataloader.py:665: UserWarning: 'pin_memory' argument is set as true but no accelerator is found, then device pinned memory won't be used.\n",
      "  warnings.warn(warn_msg)\n"
     ]
    },
    {
     "data": {
      "text/html": [],
      "text/plain": [
       "<IPython.core.display.HTML object>"
      ]
     },
     "metadata": {},
     "output_type": "display_data"
    },
    {
     "name": "stdout",
     "output_type": "stream",
     "text": [
      "\n",
      "=== LoRA | λ = 0.2, seed = 3 ===\n"
     ]
    },
    {
     "name": "stderr",
     "output_type": "stream",
     "text": [
      "Some weights of BertForSequenceClassification were not initialized from the model checkpoint at bert-base-uncased and are newly initialized: ['classifier.bias', 'classifier.weight']\n",
      "You should probably TRAIN this model on a down-stream task to be able to use it for predictions and inference.\n",
      "C:\\Users\\a4293604\\AppData\\Local\\Temp\\ipykernel_12916\\1901290391.py:243: FutureWarning: `tokenizer` is deprecated and will be removed in version 5.0.0 for `FairnessTrainer.__init__`. Use `processing_class` instead.\n",
      "  super().__init__(**kwargs)\n",
      "No label_names provided for model class `PeftModelForSequenceClassification`. Since `PeftModel` hides base models input arguments, if label_names is not given, label_names can't be set automatically within `Trainer`. Note that empty label_names list will be used instead.\n"
     ]
    },
    {
     "name": "stdout",
     "output_type": "stream",
     "text": [
      "trainable params: 1,360,924 || all params: 110,864,696 || trainable%: 1.2276\n"
     ]
    },
    {
     "name": "stderr",
     "output_type": "stream",
     "text": [
      "C:\\Users\\a4293604\\AppData\\Local\\Packages\\PythonSoftwareFoundation.Python.3.10_qbz5n2kfra8p0\\LocalCache\\local-packages\\Python310\\site-packages\\torch\\utils\\data\\dataloader.py:665: UserWarning: 'pin_memory' argument is set as true but no accelerator is found, then device pinned memory won't be used.\n",
      "  warnings.warn(warn_msg)\n"
     ]
    },
    {
     "data": {
      "text/html": [
       "\n",
       "    <div>\n",
       "      \n",
       "      <progress value='150' max='150' style='width:300px; height:20px; vertical-align: middle;'></progress>\n",
       "      [150/150 39:52, Epoch 0/1]\n",
       "    </div>\n",
       "    <table border=\"1\" class=\"dataframe\">\n",
       "  <thead>\n",
       " <tr style=\"text-align: left;\">\n",
       "      <th>Step</th>\n",
       "      <th>Training Loss</th>\n",
       "      <th>Validation Loss</th>\n",
       "    </tr>\n",
       "  </thead>\n",
       "  <tbody>\n",
       "  </tbody>\n",
       "</table><p>"
      ],
      "text/plain": [
       "<IPython.core.display.HTML object>"
      ]
     },
     "metadata": {},
     "output_type": "display_data"
    },
    {
     "data": {
      "text/html": [],
      "text/plain": [
       "<IPython.core.display.HTML object>"
      ]
     },
     "metadata": {},
     "output_type": "display_data"
    },
    {
     "name": "stderr",
     "output_type": "stream",
     "text": [
      "C:\\Users\\a4293604\\AppData\\Local\\Packages\\PythonSoftwareFoundation.Python.3.10_qbz5n2kfra8p0\\LocalCache\\local-packages\\Python310\\site-packages\\torch\\utils\\data\\dataloader.py:665: UserWarning: 'pin_memory' argument is set as true but no accelerator is found, then device pinned memory won't be used.\n",
      "  warnings.warn(warn_msg)\n"
     ]
    },
    {
     "data": {
      "text/html": [],
      "text/plain": [
       "<IPython.core.display.HTML object>"
      ]
     },
     "metadata": {},
     "output_type": "display_data"
    },
    {
     "name": "stdout",
     "output_type": "stream",
     "text": [
      "\n",
      "=== LoRA | λ = 0.5, seed = 1 ===\n"
     ]
    },
    {
     "name": "stderr",
     "output_type": "stream",
     "text": [
      "Some weights of BertForSequenceClassification were not initialized from the model checkpoint at bert-base-uncased and are newly initialized: ['classifier.bias', 'classifier.weight']\n",
      "You should probably TRAIN this model on a down-stream task to be able to use it for predictions and inference.\n",
      "C:\\Users\\a4293604\\AppData\\Local\\Temp\\ipykernel_12916\\1901290391.py:243: FutureWarning: `tokenizer` is deprecated and will be removed in version 5.0.0 for `FairnessTrainer.__init__`. Use `processing_class` instead.\n",
      "  super().__init__(**kwargs)\n",
      "No label_names provided for model class `PeftModelForSequenceClassification`. Since `PeftModel` hides base models input arguments, if label_names is not given, label_names can't be set automatically within `Trainer`. Note that empty label_names list will be used instead.\n"
     ]
    },
    {
     "name": "stdout",
     "output_type": "stream",
     "text": [
      "trainable params: 1,360,924 || all params: 110,864,696 || trainable%: 1.2276\n"
     ]
    },
    {
     "name": "stderr",
     "output_type": "stream",
     "text": [
      "C:\\Users\\a4293604\\AppData\\Local\\Packages\\PythonSoftwareFoundation.Python.3.10_qbz5n2kfra8p0\\LocalCache\\local-packages\\Python310\\site-packages\\torch\\utils\\data\\dataloader.py:665: UserWarning: 'pin_memory' argument is set as true but no accelerator is found, then device pinned memory won't be used.\n",
      "  warnings.warn(warn_msg)\n"
     ]
    },
    {
     "data": {
      "text/html": [
       "\n",
       "    <div>\n",
       "      \n",
       "      <progress value='150' max='150' style='width:300px; height:20px; vertical-align: middle;'></progress>\n",
       "      [150/150 39:45, Epoch 0/1]\n",
       "    </div>\n",
       "    <table border=\"1\" class=\"dataframe\">\n",
       "  <thead>\n",
       " <tr style=\"text-align: left;\">\n",
       "      <th>Step</th>\n",
       "      <th>Training Loss</th>\n",
       "      <th>Validation Loss</th>\n",
       "    </tr>\n",
       "  </thead>\n",
       "  <tbody>\n",
       "  </tbody>\n",
       "</table><p>"
      ],
      "text/plain": [
       "<IPython.core.display.HTML object>"
      ]
     },
     "metadata": {},
     "output_type": "display_data"
    },
    {
     "data": {
      "text/html": [],
      "text/plain": [
       "<IPython.core.display.HTML object>"
      ]
     },
     "metadata": {},
     "output_type": "display_data"
    },
    {
     "name": "stderr",
     "output_type": "stream",
     "text": [
      "C:\\Users\\a4293604\\AppData\\Local\\Packages\\PythonSoftwareFoundation.Python.3.10_qbz5n2kfra8p0\\LocalCache\\local-packages\\Python310\\site-packages\\torch\\utils\\data\\dataloader.py:665: UserWarning: 'pin_memory' argument is set as true but no accelerator is found, then device pinned memory won't be used.\n",
      "  warnings.warn(warn_msg)\n"
     ]
    },
    {
     "data": {
      "text/html": [],
      "text/plain": [
       "<IPython.core.display.HTML object>"
      ]
     },
     "metadata": {},
     "output_type": "display_data"
    },
    {
     "name": "stdout",
     "output_type": "stream",
     "text": [
      "\n",
      "=== LoRA | λ = 0.5, seed = 2 ===\n"
     ]
    },
    {
     "name": "stderr",
     "output_type": "stream",
     "text": [
      "Some weights of BertForSequenceClassification were not initialized from the model checkpoint at bert-base-uncased and are newly initialized: ['classifier.bias', 'classifier.weight']\n",
      "You should probably TRAIN this model on a down-stream task to be able to use it for predictions and inference.\n",
      "C:\\Users\\a4293604\\AppData\\Local\\Temp\\ipykernel_12916\\1901290391.py:243: FutureWarning: `tokenizer` is deprecated and will be removed in version 5.0.0 for `FairnessTrainer.__init__`. Use `processing_class` instead.\n",
      "  super().__init__(**kwargs)\n",
      "No label_names provided for model class `PeftModelForSequenceClassification`. Since `PeftModel` hides base models input arguments, if label_names is not given, label_names can't be set automatically within `Trainer`. Note that empty label_names list will be used instead.\n"
     ]
    },
    {
     "name": "stdout",
     "output_type": "stream",
     "text": [
      "trainable params: 1,360,924 || all params: 110,864,696 || trainable%: 1.2276\n"
     ]
    },
    {
     "name": "stderr",
     "output_type": "stream",
     "text": [
      "C:\\Users\\a4293604\\AppData\\Local\\Packages\\PythonSoftwareFoundation.Python.3.10_qbz5n2kfra8p0\\LocalCache\\local-packages\\Python310\\site-packages\\torch\\utils\\data\\dataloader.py:665: UserWarning: 'pin_memory' argument is set as true but no accelerator is found, then device pinned memory won't be used.\n",
      "  warnings.warn(warn_msg)\n"
     ]
    },
    {
     "data": {
      "text/html": [
       "\n",
       "    <div>\n",
       "      \n",
       "      <progress value='150' max='150' style='width:300px; height:20px; vertical-align: middle;'></progress>\n",
       "      [150/150 39:39, Epoch 0/1]\n",
       "    </div>\n",
       "    <table border=\"1\" class=\"dataframe\">\n",
       "  <thead>\n",
       " <tr style=\"text-align: left;\">\n",
       "      <th>Step</th>\n",
       "      <th>Training Loss</th>\n",
       "      <th>Validation Loss</th>\n",
       "    </tr>\n",
       "  </thead>\n",
       "  <tbody>\n",
       "  </tbody>\n",
       "</table><p>"
      ],
      "text/plain": [
       "<IPython.core.display.HTML object>"
      ]
     },
     "metadata": {},
     "output_type": "display_data"
    },
    {
     "data": {
      "text/html": [],
      "text/plain": [
       "<IPython.core.display.HTML object>"
      ]
     },
     "metadata": {},
     "output_type": "display_data"
    },
    {
     "name": "stderr",
     "output_type": "stream",
     "text": [
      "C:\\Users\\a4293604\\AppData\\Local\\Packages\\PythonSoftwareFoundation.Python.3.10_qbz5n2kfra8p0\\LocalCache\\local-packages\\Python310\\site-packages\\torch\\utils\\data\\dataloader.py:665: UserWarning: 'pin_memory' argument is set as true but no accelerator is found, then device pinned memory won't be used.\n",
      "  warnings.warn(warn_msg)\n"
     ]
    },
    {
     "data": {
      "text/html": [],
      "text/plain": [
       "<IPython.core.display.HTML object>"
      ]
     },
     "metadata": {},
     "output_type": "display_data"
    },
    {
     "name": "stdout",
     "output_type": "stream",
     "text": [
      "\n",
      "=== LoRA | λ = 0.5, seed = 3 ===\n"
     ]
    },
    {
     "name": "stderr",
     "output_type": "stream",
     "text": [
      "Some weights of BertForSequenceClassification were not initialized from the model checkpoint at bert-base-uncased and are newly initialized: ['classifier.bias', 'classifier.weight']\n",
      "You should probably TRAIN this model on a down-stream task to be able to use it for predictions and inference.\n",
      "C:\\Users\\a4293604\\AppData\\Local\\Temp\\ipykernel_12916\\1901290391.py:243: FutureWarning: `tokenizer` is deprecated and will be removed in version 5.0.0 for `FairnessTrainer.__init__`. Use `processing_class` instead.\n",
      "  super().__init__(**kwargs)\n",
      "No label_names provided for model class `PeftModelForSequenceClassification`. Since `PeftModel` hides base models input arguments, if label_names is not given, label_names can't be set automatically within `Trainer`. Note that empty label_names list will be used instead.\n"
     ]
    },
    {
     "name": "stdout",
     "output_type": "stream",
     "text": [
      "trainable params: 1,360,924 || all params: 110,864,696 || trainable%: 1.2276\n"
     ]
    },
    {
     "name": "stderr",
     "output_type": "stream",
     "text": [
      "C:\\Users\\a4293604\\AppData\\Local\\Packages\\PythonSoftwareFoundation.Python.3.10_qbz5n2kfra8p0\\LocalCache\\local-packages\\Python310\\site-packages\\torch\\utils\\data\\dataloader.py:665: UserWarning: 'pin_memory' argument is set as true but no accelerator is found, then device pinned memory won't be used.\n",
      "  warnings.warn(warn_msg)\n"
     ]
    },
    {
     "data": {
      "text/html": [
       "\n",
       "    <div>\n",
       "      \n",
       "      <progress value='150' max='150' style='width:300px; height:20px; vertical-align: middle;'></progress>\n",
       "      [150/150 39:41, Epoch 0/1]\n",
       "    </div>\n",
       "    <table border=\"1\" class=\"dataframe\">\n",
       "  <thead>\n",
       " <tr style=\"text-align: left;\">\n",
       "      <th>Step</th>\n",
       "      <th>Training Loss</th>\n",
       "      <th>Validation Loss</th>\n",
       "    </tr>\n",
       "  </thead>\n",
       "  <tbody>\n",
       "  </tbody>\n",
       "</table><p>"
      ],
      "text/plain": [
       "<IPython.core.display.HTML object>"
      ]
     },
     "metadata": {},
     "output_type": "display_data"
    },
    {
     "data": {
      "text/html": [],
      "text/plain": [
       "<IPython.core.display.HTML object>"
      ]
     },
     "metadata": {},
     "output_type": "display_data"
    },
    {
     "name": "stderr",
     "output_type": "stream",
     "text": [
      "C:\\Users\\a4293604\\AppData\\Local\\Packages\\PythonSoftwareFoundation.Python.3.10_qbz5n2kfra8p0\\LocalCache\\local-packages\\Python310\\site-packages\\torch\\utils\\data\\dataloader.py:665: UserWarning: 'pin_memory' argument is set as true but no accelerator is found, then device pinned memory won't be used.\n",
      "  warnings.warn(warn_msg)\n"
     ]
    },
    {
     "data": {
      "text/html": [],
      "text/plain": [
       "<IPython.core.display.HTML object>"
      ]
     },
     "metadata": {},
     "output_type": "display_data"
    },
    {
     "name": "stdout",
     "output_type": "stream",
     "text": [
      "\n",
      "=== LoRA | λ = 1.0, seed = 1 ===\n"
     ]
    },
    {
     "name": "stderr",
     "output_type": "stream",
     "text": [
      "Some weights of BertForSequenceClassification were not initialized from the model checkpoint at bert-base-uncased and are newly initialized: ['classifier.bias', 'classifier.weight']\n",
      "You should probably TRAIN this model on a down-stream task to be able to use it for predictions and inference.\n",
      "C:\\Users\\a4293604\\AppData\\Local\\Temp\\ipykernel_12916\\1901290391.py:243: FutureWarning: `tokenizer` is deprecated and will be removed in version 5.0.0 for `FairnessTrainer.__init__`. Use `processing_class` instead.\n",
      "  super().__init__(**kwargs)\n",
      "No label_names provided for model class `PeftModelForSequenceClassification`. Since `PeftModel` hides base models input arguments, if label_names is not given, label_names can't be set automatically within `Trainer`. Note that empty label_names list will be used instead.\n"
     ]
    },
    {
     "name": "stdout",
     "output_type": "stream",
     "text": [
      "trainable params: 1,360,924 || all params: 110,864,696 || trainable%: 1.2276\n"
     ]
    },
    {
     "name": "stderr",
     "output_type": "stream",
     "text": [
      "C:\\Users\\a4293604\\AppData\\Local\\Packages\\PythonSoftwareFoundation.Python.3.10_qbz5n2kfra8p0\\LocalCache\\local-packages\\Python310\\site-packages\\torch\\utils\\data\\dataloader.py:665: UserWarning: 'pin_memory' argument is set as true but no accelerator is found, then device pinned memory won't be used.\n",
      "  warnings.warn(warn_msg)\n"
     ]
    },
    {
     "data": {
      "text/html": [
       "\n",
       "    <div>\n",
       "      \n",
       "      <progress value='150' max='150' style='width:300px; height:20px; vertical-align: middle;'></progress>\n",
       "      [150/150 39:44, Epoch 0/1]\n",
       "    </div>\n",
       "    <table border=\"1\" class=\"dataframe\">\n",
       "  <thead>\n",
       " <tr style=\"text-align: left;\">\n",
       "      <th>Step</th>\n",
       "      <th>Training Loss</th>\n",
       "      <th>Validation Loss</th>\n",
       "    </tr>\n",
       "  </thead>\n",
       "  <tbody>\n",
       "  </tbody>\n",
       "</table><p>"
      ],
      "text/plain": [
       "<IPython.core.display.HTML object>"
      ]
     },
     "metadata": {},
     "output_type": "display_data"
    },
    {
     "data": {
      "text/html": [],
      "text/plain": [
       "<IPython.core.display.HTML object>"
      ]
     },
     "metadata": {},
     "output_type": "display_data"
    },
    {
     "name": "stderr",
     "output_type": "stream",
     "text": [
      "C:\\Users\\a4293604\\AppData\\Local\\Packages\\PythonSoftwareFoundation.Python.3.10_qbz5n2kfra8p0\\LocalCache\\local-packages\\Python310\\site-packages\\torch\\utils\\data\\dataloader.py:665: UserWarning: 'pin_memory' argument is set as true but no accelerator is found, then device pinned memory won't be used.\n",
      "  warnings.warn(warn_msg)\n"
     ]
    },
    {
     "data": {
      "text/html": [],
      "text/plain": [
       "<IPython.core.display.HTML object>"
      ]
     },
     "metadata": {},
     "output_type": "display_data"
    },
    {
     "name": "stdout",
     "output_type": "stream",
     "text": [
      "\n",
      "=== LoRA | λ = 1.0, seed = 2 ===\n"
     ]
    },
    {
     "name": "stderr",
     "output_type": "stream",
     "text": [
      "Some weights of BertForSequenceClassification were not initialized from the model checkpoint at bert-base-uncased and are newly initialized: ['classifier.bias', 'classifier.weight']\n",
      "You should probably TRAIN this model on a down-stream task to be able to use it for predictions and inference.\n",
      "C:\\Users\\a4293604\\AppData\\Local\\Temp\\ipykernel_12916\\1901290391.py:243: FutureWarning: `tokenizer` is deprecated and will be removed in version 5.0.0 for `FairnessTrainer.__init__`. Use `processing_class` instead.\n",
      "  super().__init__(**kwargs)\n",
      "No label_names provided for model class `PeftModelForSequenceClassification`. Since `PeftModel` hides base models input arguments, if label_names is not given, label_names can't be set automatically within `Trainer`. Note that empty label_names list will be used instead.\n"
     ]
    },
    {
     "name": "stdout",
     "output_type": "stream",
     "text": [
      "trainable params: 1,360,924 || all params: 110,864,696 || trainable%: 1.2276\n"
     ]
    },
    {
     "name": "stderr",
     "output_type": "stream",
     "text": [
      "C:\\Users\\a4293604\\AppData\\Local\\Packages\\PythonSoftwareFoundation.Python.3.10_qbz5n2kfra8p0\\LocalCache\\local-packages\\Python310\\site-packages\\torch\\utils\\data\\dataloader.py:665: UserWarning: 'pin_memory' argument is set as true but no accelerator is found, then device pinned memory won't be used.\n",
      "  warnings.warn(warn_msg)\n"
     ]
    },
    {
     "data": {
      "text/html": [
       "\n",
       "    <div>\n",
       "      \n",
       "      <progress value='150' max='150' style='width:300px; height:20px; vertical-align: middle;'></progress>\n",
       "      [150/150 41:24, Epoch 0/1]\n",
       "    </div>\n",
       "    <table border=\"1\" class=\"dataframe\">\n",
       "  <thead>\n",
       " <tr style=\"text-align: left;\">\n",
       "      <th>Step</th>\n",
       "      <th>Training Loss</th>\n",
       "      <th>Validation Loss</th>\n",
       "    </tr>\n",
       "  </thead>\n",
       "  <tbody>\n",
       "  </tbody>\n",
       "</table><p>"
      ],
      "text/plain": [
       "<IPython.core.display.HTML object>"
      ]
     },
     "metadata": {},
     "output_type": "display_data"
    },
    {
     "data": {
      "text/html": [],
      "text/plain": [
       "<IPython.core.display.HTML object>"
      ]
     },
     "metadata": {},
     "output_type": "display_data"
    },
    {
     "name": "stderr",
     "output_type": "stream",
     "text": [
      "C:\\Users\\a4293604\\AppData\\Local\\Packages\\PythonSoftwareFoundation.Python.3.10_qbz5n2kfra8p0\\LocalCache\\local-packages\\Python310\\site-packages\\torch\\utils\\data\\dataloader.py:665: UserWarning: 'pin_memory' argument is set as true but no accelerator is found, then device pinned memory won't be used.\n",
      "  warnings.warn(warn_msg)\n"
     ]
    },
    {
     "data": {
      "text/html": [],
      "text/plain": [
       "<IPython.core.display.HTML object>"
      ]
     },
     "metadata": {},
     "output_type": "display_data"
    },
    {
     "name": "stdout",
     "output_type": "stream",
     "text": [
      "\n",
      "=== LoRA | λ = 1.0, seed = 3 ===\n"
     ]
    },
    {
     "name": "stderr",
     "output_type": "stream",
     "text": [
      "Some weights of BertForSequenceClassification were not initialized from the model checkpoint at bert-base-uncased and are newly initialized: ['classifier.bias', 'classifier.weight']\n",
      "You should probably TRAIN this model on a down-stream task to be able to use it for predictions and inference.\n",
      "C:\\Users\\a4293604\\AppData\\Local\\Temp\\ipykernel_12916\\1901290391.py:243: FutureWarning: `tokenizer` is deprecated and will be removed in version 5.0.0 for `FairnessTrainer.__init__`. Use `processing_class` instead.\n",
      "  super().__init__(**kwargs)\n",
      "No label_names provided for model class `PeftModelForSequenceClassification`. Since `PeftModel` hides base models input arguments, if label_names is not given, label_names can't be set automatically within `Trainer`. Note that empty label_names list will be used instead.\n"
     ]
    },
    {
     "name": "stdout",
     "output_type": "stream",
     "text": [
      "trainable params: 1,360,924 || all params: 110,864,696 || trainable%: 1.2276\n"
     ]
    },
    {
     "name": "stderr",
     "output_type": "stream",
     "text": [
      "C:\\Users\\a4293604\\AppData\\Local\\Packages\\PythonSoftwareFoundation.Python.3.10_qbz5n2kfra8p0\\LocalCache\\local-packages\\Python310\\site-packages\\torch\\utils\\data\\dataloader.py:665: UserWarning: 'pin_memory' argument is set as true but no accelerator is found, then device pinned memory won't be used.\n",
      "  warnings.warn(warn_msg)\n"
     ]
    },
    {
     "data": {
      "text/html": [
       "\n",
       "    <div>\n",
       "      \n",
       "      <progress value='150' max='150' style='width:300px; height:20px; vertical-align: middle;'></progress>\n",
       "      [150/150 41:29, Epoch 0/1]\n",
       "    </div>\n",
       "    <table border=\"1\" class=\"dataframe\">\n",
       "  <thead>\n",
       " <tr style=\"text-align: left;\">\n",
       "      <th>Step</th>\n",
       "      <th>Training Loss</th>\n",
       "      <th>Validation Loss</th>\n",
       "    </tr>\n",
       "  </thead>\n",
       "  <tbody>\n",
       "  </tbody>\n",
       "</table><p>"
      ],
      "text/plain": [
       "<IPython.core.display.HTML object>"
      ]
     },
     "metadata": {},
     "output_type": "display_data"
    },
    {
     "data": {
      "text/html": [],
      "text/plain": [
       "<IPython.core.display.HTML object>"
      ]
     },
     "metadata": {},
     "output_type": "display_data"
    },
    {
     "name": "stderr",
     "output_type": "stream",
     "text": [
      "C:\\Users\\a4293604\\AppData\\Local\\Packages\\PythonSoftwareFoundation.Python.3.10_qbz5n2kfra8p0\\LocalCache\\local-packages\\Python310\\site-packages\\torch\\utils\\data\\dataloader.py:665: UserWarning: 'pin_memory' argument is set as true but no accelerator is found, then device pinned memory won't be used.\n",
      "  warnings.warn(warn_msg)\n"
     ]
    },
    {
     "data": {
      "text/html": [],
      "text/plain": [
       "<IPython.core.display.HTML object>"
      ]
     },
     "metadata": {},
     "output_type": "display_data"
    },
    {
     "name": "stdout",
     "output_type": "stream",
     "text": [
      "\n",
      "=== Selected λ (dev) ===\n",
      "FULL: 0.2 {'lambda': 0.2, 'mf1_mean': 0.5452967350880119, 'gap_mean': 0.01383389779880769}\n",
      "LoRA: 0.0 {'lambda': 0.0, 'mf1_mean': 0.009421223838652015, 'gap_mean': 0.002794882302446492}\n",
      "\n",
      "=== FULL λ Summary (Test) ===\n",
      "   mode  lambda  test_macro_f1_mean  test_macro_f1_ci_low  \\\n",
      "0  FULL    0.00              0.5516                0.4936   \n",
      "1  FULL    0.05              0.5554                0.4712   \n",
      "2  FULL    0.10              0.5575                0.4829   \n",
      "3  FULL    0.20              0.5520                0.4922   \n",
      "4  FULL    0.50              0.5465                0.4911   \n",
      "5  FULL    1.00              0.5510                0.4828   \n",
      "\n",
      "   test_macro_f1_ci_high  |test_delta_macro_f1|_mean  \\\n",
      "0                 0.6097                      0.0116   \n",
      "1                 0.6396                      0.0099   \n",
      "2                 0.6321                      0.0089   \n",
      "3                 0.6119                      0.0092   \n",
      "4                 0.6019                      0.0128   \n",
      "5                 0.6191                      0.0128   \n",
      "\n",
      "   |test_delta_macro_f1|_ci_low  |test_delta_macro_f1|_ci_high  eo_gap_mean  \\\n",
      "0                       -0.0176                         0.0408       0.0753   \n",
      "1                       -0.0152                         0.0349       0.0780   \n",
      "2                       -0.0096                         0.0274       0.0798   \n",
      "3                       -0.0130                         0.0315       0.0757   \n",
      "4                       -0.0287                         0.0543       0.0827   \n",
      "5                       -0.0189                         0.0445       0.0816   \n",
      "\n",
      "   eo_gap_ci_low  eo_gap_ci_high  \n",
      "0         0.0513          0.0993  \n",
      "1         0.0449          0.1110  \n",
      "2         0.0414          0.1182  \n",
      "3         0.0474          0.1040  \n",
      "4         0.0429          0.1226  \n",
      "5         0.0489          0.1142  \n"
     ]
    },
    {
     "data": {
      "image/png": "[encoded data removed]",
      "text/plain": [
       "<Figure size 700x500 with 1 Axes>"
      ]
     },
     "metadata": {},
     "output_type": "display_data"
    },
    {
     "name": "stdout",
     "output_type": "stream",
     "text": [
      "FULL AUF (normalised): 0.460\n",
      "\n",
      "=== LoRA λ Summary (Test) ===\n",
      "   mode  lambda  test_macro_f1_mean  test_macro_f1_ci_low  \\\n",
      "0  LoRA    0.00              0.0106               -0.0029   \n",
      "1  LoRA    0.05              0.0106               -0.0029   \n",
      "2  LoRA    0.10              0.0106               -0.0030   \n",
      "3  LoRA    0.20              0.0107               -0.0029   \n",
      "4  LoRA    0.50              0.0107               -0.0025   \n",
      "5  LoRA    1.00              0.0106               -0.0024   \n",
      "\n",
      "   test_macro_f1_ci_high  |test_delta_macro_f1|_mean  \\\n",
      "0                 0.0241                      0.0032   \n",
      "1                 0.0242                      0.0032   \n",
      "2                 0.0242                      0.0032   \n",
      "3                 0.0243                      0.0033   \n",
      "4                 0.0239                      0.0031   \n",
      "5                 0.0235                      0.0031   \n",
      "\n",
      "   |test_delta_macro_f1|_ci_low  |test_delta_macro_f1|_ci_high  eo_gap_mean  \\\n",
      "0                       -0.0027                         0.0091       0.0264   \n",
      "1                       -0.0027                         0.0091       0.0264   \n",
      "2                       -0.0027                         0.0091       0.0262   \n",
      "3                       -0.0026                         0.0092       0.0262   \n",
      "4                       -0.0030                         0.0092       0.0261   \n",
      "5                       -0.0036                         0.0097       0.0264   \n",
      "\n",
      "   eo_gap_ci_low  eo_gap_ci_high  \n",
      "0        -0.0284          0.0812  \n",
      "1        -0.0284          0.0812  \n",
      "2        -0.0282          0.0807  \n",
      "3        -0.0282          0.0806  \n",
      "4        -0.0285          0.0808  \n",
      "5        -0.0277          0.0804  \n"
     ]
    },
    {
     "data": {
      "image/png": "[encoded data removed]",
      "text/plain": [
       "<Figure size 700x500 with 1 Axes>"
      ]
     },
     "metadata": {},
     "output_type": "display_data"
    },
    {
     "name": "stdout",
     "output_type": "stream",
     "text": [
      "LoRA AUF (normalised): 0.374\n",
      "\n",
      "✅ Done. Artifacts saved under: runs_bias_in_bios_rq2\n"
     ]
    }
   ],
   "source": [
    "# %% [markdown]\n",
    "# # RQ2 – Fairness‑Constrained Fine‑Tuning on Bias-in-Bios\n",
    "# \n",
    "# This notebook runs:\n",
    "# 1. **Full fine‑tuning** (baseline) **and** **LoRA** with a **fairness-constrained loss** (Equalized Odds surrogate).\n",
    "# 2. A **λ sweep** (including λ=0) over multiple seeds.\n",
    "# 3. **Dev-set fairness auditing** and **λ selection** (minimizing |Δmacro‑F1| under a utility drop constraint).\n",
    "# 4. **Test-set reporting** with **95% CIs**.\n",
    "# 5. **Accuracy–Fairness Pareto curves**, **Pareto frontier**, and **Area Under Fairness (AUF)**.\n",
    "# \n",
    "# Artifacts (JSON/CSVs/plots) are saved under `CFG[\"OUT_DIR\"]`.\n",
    "\n",
    "# %%\n",
    "# !pip install -U \"transformers>=4.40\" \"datasets>=3.0\" \"accelerate>=0.27\" peft scikit-learn pandas matplotlib scipy\n",
    "\n",
    "# %%\n",
    "import os\n",
    "import json\n",
    "import numpy as np\n",
    "import pandas as pd\n",
    "import torch\n",
    "import matplotlib.pyplot as plt\n",
    "\n",
    "from collections import Counter, defaultdict\n",
    "from typing import Dict, List, Tuple\n",
    "\n",
    "from datasets import load_dataset, Dataset\n",
    "from sklearn.metrics import accuracy_score, f1_score, confusion_matrix\n",
    "\n",
    "from transformers import (\n",
    "    AutoTokenizer, AutoModelForSequenceClassification,\n",
    "    DataCollatorWithPadding, TrainingArguments, Trainer, set_seed\n",
    ")\n",
    "from peft import LoraConfig, get_peft_model\n",
    "from scipy.stats import t\n",
    "\n",
    "# %%\n",
    "# =========================\n",
    "# 0) CONFIG\n",
    "# =========================\n",
    "CFG = dict(\n",
    "    DATASET=\"LabHC/bias_in_bios\",\n",
    "    TEXT_COL=\"hard_text\",          # \"bio\" (easier) / \"hard_text\" (harder)\n",
    "    Y_COL=\"profession\",\n",
    "    G_COL=\"gender\",                # 0=male, 1=female\n",
    "    TOP_K_PROFESSIONS=28,          # None to keep all\n",
    "    MAX_PER_GROUP_TRAIN=400,       # cap per (profession, gender)\n",
    "    MAX_PER_GROUP_DEV=100,\n",
    "    MAX_PER_GROUP_TEST=200,\n",
    "    MAX_LEN=128,                   # speed knob\n",
    "    MAX_STEPS=150,                # HARD cap on updates\n",
    "    BATCH_TRAIN=32,\n",
    "    BATCH_EVAL=64,\n",
    "    LR=2e-5,\n",
    "    WEIGHT_DECAY=0.01,\n",
    "    SEEDS=[1, 2, 3],               # >=3 for CIs; 5 for final report\n",
    "    LAMBDAS=[0.0, 0.05, 0.1, 0.2, 0.5, 1.0],  # sweep wide enough to see the curve\n",
    "    # LoRA\n",
    "    LORA_R=8,\n",
    "    LORA_ALPHA=16,\n",
    "    LORA_DROPOUT=0.05,\n",
    "    LORA_TARGET_MODULES=[\"query\", \"key\", \"value\", \"dense\"],\n",
    "    # model selection\n",
    "    MAX_MACROF1_DROP=0.01,         # allow ≤ 1% macro-F1 drop vs baseline (λ=0) on dev\n",
    "    # misc\n",
    "    OUT_DIR=\"runs_bias_in_bios_rq2\",\n",
    "    FP16=torch.cuda.is_available(),\n",
    ")\n",
    "\n",
    "set_seed(42)\n",
    "print(\"CUDA:\", torch.cuda.is_available(),\n",
    "      torch.cuda.get_device_name(0) if torch.cuda.is_available() else \"CPU\")\n",
    "\n",
    "# %%\n",
    "# =========================\n",
    "# 1) DATA LOADING & DOWNSIZING\n",
    "# =========================\n",
    "def keep_topk(ds, label_col, k):\n",
    "    counts = Counter(ds[label_col])\n",
    "    topk = {lab for lab, _ in counts.most_common(k)}\n",
    "    return ds.filter(lambda ex: ex[label_col] in topk)\n",
    "\n",
    "def stratified_cap(ds, label_col, group_col, cap, seed=42):\n",
    "    df = ds.to_pandas()\n",
    "    df_small = (df.groupby([label_col, group_col], group_keys=False)\n",
    "                  .apply(lambda x: x.sample(n=min(cap, len(x)), random_state=seed))\n",
    "                  .reset_index(drop=True))\n",
    "    return Dataset.from_pandas(df_small, preserve_index=False)\n",
    "\n",
    "print(\"Loading dataset...\")\n",
    "train_ds = load_dataset(CFG[\"DATASET\"], split=\"train\")\n",
    "dev_ds   = load_dataset(CFG[\"DATASET\"], split=\"dev\")\n",
    "test_ds  = load_dataset(CFG[\"DATASET\"], split=\"test\")\n",
    "print(\"Original sizes:\", len(train_ds), len(dev_ds), len(test_ds))\n",
    "\n",
    "if CFG[\"TOP_K_PROFESSIONS\"] is not None:\n",
    "    train_ds = keep_topk(train_ds, CFG[\"Y_COL\"], CFG[\"TOP_K_PROFESSIONS\"])\n",
    "    dev_ds   = keep_topk(dev_ds,   CFG[\"Y_COL\"], CFG[\"TOP_K_PROFESSIONS\"])\n",
    "    test_ds  = keep_topk(test_ds,  CFG[\"Y_COL\"], CFG[\"TOP_K_PROFESSIONS\"])\n",
    "\n",
    "train_ds = stratified_cap(train_ds, CFG[\"Y_COL\"], CFG[\"G_COL\"], CFG[\"MAX_PER_GROUP_TRAIN\"])\n",
    "dev_ds   = stratified_cap(dev_ds,   CFG[\"Y_COL\"], CFG[\"G_COL\"], CFG[\"MAX_PER_GROUP_DEV\"])\n",
    "test_ds  = stratified_cap(test_ds,  CFG[\"Y_COL\"], CFG[\"G_COL\"], CFG[\"MAX_PER_GROUP_TEST\"])\n",
    "\n",
    "print(\"Downsized sizes:\", len(train_ds), len(dev_ds), len(test_ds))\n",
    "\n",
    "# Global remap labels to 0..K-1 across ALL splits (safety)\n",
    "all_labels = sorted(set(train_ds[CFG[\"Y_COL\"]]) | set(dev_ds[CFG[\"Y_COL\"]]) | set(test_ds[CFG[\"Y_COL\"]]))\n",
    "need_remap = (all_labels != list(range(len(all_labels)))) or (min(all_labels) != 0)\n",
    "\n",
    "if need_remap:\n",
    "    label2id = {lab: i for i, lab in enumerate(all_labels)}\n",
    "    def _remap(ex):\n",
    "        ex[CFG[\"Y_COL\"]] = label2id[ex[CFG[\"Y_COL\"]]]\n",
    "        return ex\n",
    "    train_ds = train_ds.map(_remap)\n",
    "    dev_ds   = dev_ds.map(_remap)\n",
    "    test_ds  = test_ds.map(_remap)\n",
    "else:\n",
    "    label2id = {lab: lab for lab in all_labels}\n",
    "\n",
    "num_labels = len(label2id)\n",
    "print(\"num_labels =\", num_labels)\n",
    "\n",
    "# %%\n",
    "# =========================\n",
    "# 2) TOKENISATION\n",
    "# =========================\n",
    "tokenizer = AutoTokenizer.from_pretrained(\"bert-base-uncased\")\n",
    "\n",
    "def tok(batch):\n",
    "    enc = tokenizer(batch[CFG[\"TEXT_COL\"]], truncation=True, max_length=CFG[\"MAX_LEN\"])\n",
    "    enc[\"labels\"]    = batch[CFG[\"Y_COL\"]]\n",
    "    enc[\"gender_id\"] = batch[CFG[\"G_COL\"]]\n",
    "    return enc\n",
    "\n",
    "train_tok = train_ds.map(tok, batched=True, remove_columns=train_ds.column_names)\n",
    "dev_tok   = dev_ds.map(tok,   batched=True, remove_columns=dev_ds.column_names)\n",
    "test_tok  = test_ds.map(tok,  batched=True, remove_columns=test_ds.column_names)\n",
    "\n",
    "data_collator = DataCollatorWithPadding(tokenizer, pad_to_multiple_of=8)\n",
    "\n",
    "# %%\n",
    "# =========================\n",
    "# 3) METRICS / FAIRNESS\n",
    "# =========================\n",
    "def compute_metrics(eval_pred):\n",
    "    logits, labels = eval_pred\n",
    "    preds = np.argmax(logits, axis=1)\n",
    "    return {\n",
    "        \"accuracy\": accuracy_score(labels, preds),\n",
    "        \"macro_f1\": f1_score(labels, preds, average=\"macro\"),\n",
    "    }\n",
    "\n",
    "def per_gender_scores(labels, preds, genders):\n",
    "    labels  = np.array(labels)\n",
    "    preds   = np.array(preds)\n",
    "    genders = np.array(genders)\n",
    "\n",
    "    out = {}\n",
    "    for name, gid in [(\"male\", 0), (\"female\", 1)]:\n",
    "        mask = (genders == gid)\n",
    "        if mask.sum() == 0:\n",
    "            out[name] = {\"n\": 0, \"acc\": np.nan, \"macro_f1\": np.nan,\n",
    "                         \"pos_rate\": np.nan}\n",
    "            continue\n",
    "        out[name] = {\n",
    "            \"n\": int(mask.sum()),\n",
    "            \"acc\": accuracy_score(labels[mask], preds[mask]),\n",
    "            \"macro_f1\": f1_score(labels[mask], preds[mask], average=\"macro\"),\n",
    "            \"pos_rate\": float((preds[mask] == preds[mask]).mean())  # placeholder; for multi-class parity, see note below\n",
    "        }\n",
    "    out[\"Δacc\"] = out[\"male\"][\"acc\"] - out[\"female\"][\"acc\"]\n",
    "    out[\"Δmacro_f1\"] = out[\"male\"][\"macro_f1\"] - out[\"female\"][\"macro_f1\"]\n",
    "    out[\"Δpos_rate\"] = out[\"male\"][\"pos_rate\"] - out[\"female\"][\"pos_rate\"]\n",
    "    return out\n",
    "\n",
    "def macro_equalized_odds_gap(labels, preds, genders, n_classes):\n",
    "    # Multiclass: average 1-vs-rest EO gap across all classes (|ΔTPR|+|ΔFPR|)\n",
    "    labels = np.array(labels)\n",
    "    preds  = np.array(preds)\n",
    "    genders = np.array(genders)\n",
    "    male = genders == 0\n",
    "    fem  = genders == 1\n",
    "    eps = 1e-8\n",
    "    gaps = []\n",
    "    for c in range(n_classes):\n",
    "        y_bin     = (labels == c).astype(int)\n",
    "        pred_bin  = (preds  == c).astype(int)\n",
    "        def rates(mask):\n",
    "            tn, fp, fn, tp = confusion_matrix(y_bin[mask], pred_bin[mask], labels=[0,1]).ravel()\n",
    "            tpr = tp / (tp + fn + eps)\n",
    "            fpr = fp / (fp + tn + eps)\n",
    "            return tpr, fpr\n",
    "        tpr_m, fpr_m = rates(male)\n",
    "        tpr_f, fpr_f = rates(fem)\n",
    "        gaps.append(abs(tpr_m - tpr_f) + abs(fpr_m - fpr_f))\n",
    "    return float(np.mean(gaps))\n",
    "\n",
    "def mean_ci(x, conf=0.95):\n",
    "    x = np.asarray(x)\n",
    "    n = len(x)\n",
    "    if n < 2:\n",
    "        return float(x.mean()), np.nan, np.nan\n",
    "    m = x.mean()\n",
    "    s = x.std(ddof=1)\n",
    "    h = t.ppf((1+conf)/2., n-1) * s / np.sqrt(n)\n",
    "    return float(m), float(m-h), float(m+h)\n",
    "\n",
    "# %%\n",
    "# =========================\n",
    "# 4) DIFFERENTIABLE EO SURROGATE + TRAINER\n",
    "# =========================\n",
    "def batch_equalized_odds_surrogate(logits, labels, genders, num_labels, eps=1e-8):\n",
    "    \"\"\"\n",
    "    Differentiable approximate Equalized Odds loss:\n",
    "    Proxy for |ΔTPR| + |ΔFPR| averaged over classes.\n",
    "    \"\"\"\n",
    "    probs = torch.softmax(logits, dim=-1)  # [B, K]\n",
    "    labels_onehot = torch.nn.functional.one_hot(labels, num_classes=num_labels).float()\n",
    "\n",
    "    male_mask = (genders == 0).float().unsqueeze(1)   # [B,1]\n",
    "    fem_mask  = (genders == 1).float().unsqueeze(1)\n",
    "\n",
    "    y_pos_m = (labels_onehot * male_mask).sum(dim=0) + eps\n",
    "    y_pos_f = (labels_onehot * fem_mask).sum(dim=0) + eps\n",
    "    y_neg_m = ((1 - labels_onehot) * male_mask).sum(dim=0) + eps\n",
    "    y_neg_f = ((1 - labels_onehot) * fem_mask).sum(dim=0) + eps\n",
    "\n",
    "    # TPR proxy\n",
    "    tpr_m = ((probs * labels_onehot * male_mask).sum(dim=0) / y_pos_m)\n",
    "    tpr_f = ((probs * labels_onehot * fem_mask ).sum(dim=0) / y_pos_f)\n",
    "\n",
    "    # FPR proxy\n",
    "    fpr_m = ((probs * (1 - labels_onehot) * male_mask).sum(dim=0) / y_neg_m)\n",
    "    fpr_f = ((probs * (1 - labels_onehot) * fem_mask ).sum(dim=0) / y_neg_f)\n",
    "\n",
    "    eo_per_class = (tpr_m - tpr_f).abs() + (fpr_m - fpr_f).abs()\n",
    "    return eo_per_class.mean()\n",
    "\n",
    "class FairnessTrainer(Trainer):\n",
    "    def __init__(self, num_labels, fairness_lambda=0.0, **kwargs):\n",
    "        super().__init__(**kwargs)\n",
    "        self.fairness_lambda = fairness_lambda\n",
    "        self.num_labels = num_labels\n",
    "\n",
    "    def compute_loss(self, model, inputs, return_outputs=False, **kwargs):\n",
    "        labels  = inputs.pop(\"labels\")\n",
    "        genders = inputs.pop(\"gender_id\")\n",
    "        outputs = model(**inputs)\n",
    "        logits  = outputs.logits\n",
    "\n",
    "        ce = torch.nn.functional.cross_entropy(logits, labels)\n",
    "\n",
    "        if self.fairness_lambda > 0:\n",
    "            fair_loss = batch_equalized_odds_surrogate(\n",
    "                logits, labels, genders, self.num_labels\n",
    "            )\n",
    "            loss = ce + self.fairness_lambda * fair_loss\n",
    "        else:\n",
    "            fair_loss = torch.tensor(0.0, device=logits.device)\n",
    "            loss = ce\n",
    "\n",
    "        # log components\n",
    "        self.log({\n",
    "            \"loss\": loss.item(),\n",
    "            \"ce_loss\": ce.item(),\n",
    "            \"fair_loss\": fair_loss.item(),\n",
    "            \"lambda\": self.fairness_lambda\n",
    "        })\n",
    "\n",
    "        if return_outputs:\n",
    "            outputs.loss = loss\n",
    "            return loss, outputs\n",
    "        return loss\n",
    "\n",
    "# %%\n",
    "# =========================\n",
    "# 5) MODEL BUILDERS (FULL FT + LoRA)\n",
    "# =========================\n",
    "def build_full_bert(num_labels: int):\n",
    "    return AutoModelForSequenceClassification.from_pretrained(\n",
    "        \"bert-base-uncased\", num_labels=num_labels\n",
    "    )\n",
    "\n",
    "def build_lora_bert(num_labels: int):\n",
    "    model = AutoModelForSequenceClassification.from_pretrained(\n",
    "        \"bert-base-uncased\", num_labels=num_labels\n",
    "    )\n",
    "    lora_cfg = LoraConfig(\n",
    "        r=CFG[\"LORA_R\"],\n",
    "        lora_alpha=CFG[\"LORA_ALPHA\"],\n",
    "        lora_dropout=CFG[\"LORA_DROPOUT\"],\n",
    "        bias=\"none\",\n",
    "        task_type=\"SEQ_CLS\",\n",
    "        target_modules=CFG[\"LORA_TARGET_MODULES\"]\n",
    "    )\n",
    "    model = get_peft_model(model, lora_cfg)\n",
    "    model.print_trainable_parameters()\n",
    "    return model\n",
    "\n",
    "# %%\n",
    "# =========================\n",
    "# 6) λ SWEEP (with dev & test auditing)\n",
    "# =========================\n",
    "def run_lambda_sweep(lambdas, seeds, out_dir, use_lora=True):\n",
    "    os.makedirs(out_dir, exist_ok=True)\n",
    "    all_results = []\n",
    "\n",
    "    for lam in lambdas:\n",
    "        for seed in seeds:\n",
    "            print(f\"\\n=== {'LoRA' if use_lora else 'FULL'} | λ = {lam}, seed = {seed} ===\")\n",
    "            set_seed(seed)\n",
    "\n",
    "            model = build_lora_bert(num_labels) if use_lora else build_full_bert(num_labels)\n",
    "\n",
    "            args = TrainingArguments(\n",
    "                output_dir=os.path.join(out_dir, f\"lambda_{lam}_seed_{seed}\"),\n",
    "                max_steps=CFG[\"MAX_STEPS\"],\n",
    "                per_device_train_batch_size=CFG[\"BATCH_TRAIN\"],\n",
    "                per_device_eval_batch_size=CFG[\"BATCH_EVAL\"],\n",
    "                learning_rate=CFG[\"LR\"],\n",
    "                weight_decay=CFG[\"WEIGHT_DECAY\"],\n",
    "                eval_strategy=\"steps\",\n",
    "                eval_steps=200,\n",
    "                logging_steps=200,\n",
    "                save_strategy=\"no\",\n",
    "                load_best_model_at_end=False,\n",
    "                seed=seed,\n",
    "                fp16=CFG[\"FP16\"],\n",
    "                report_to=\"none\",\n",
    "                remove_unused_columns=False,\n",
    "            )\n",
    "\n",
    "            trainer = FairnessTrainer(\n",
    "                model=model,\n",
    "                args=args,\n",
    "                train_dataset=train_tok,\n",
    "                eval_dataset=dev_tok,\n",
    "                tokenizer=tokenizer,\n",
    "                data_collator=data_collator,\n",
    "                compute_metrics=compute_metrics,\n",
    "                fairness_lambda=lam,\n",
    "                num_labels=num_labels,\n",
    "            )\n",
    "\n",
    "            trainer.train()\n",
    "\n",
    "            # ---- DEV EVAL ----\n",
    "            dev_out = trainer.predict(dev_tok)\n",
    "            dev_preds   = np.argmax(dev_out.predictions, axis=1)\n",
    "            dev_labels  = dev_out.label_ids\n",
    "            dev_genders = np.array(dev_tok[\"gender_id\"])\n",
    "            dev_acc  = accuracy_score(dev_labels, dev_preds)\n",
    "            dev_f1m  = f1_score(dev_labels, dev_preds, average=\"macro\")\n",
    "            dev_fair = per_gender_scores(dev_labels, dev_preds, dev_genders)\n",
    "            dev_eo   = macro_equalized_odds_gap(dev_labels, dev_preds, dev_genders, num_labels)\n",
    "\n",
    "            # ---- TEST EVAL ----\n",
    "            test_out = trainer.predict(test_tok)\n",
    "            test_preds   = np.argmax(test_out.predictions, axis=1)\n",
    "            test_labels  = test_out.label_ids\n",
    "            test_genders = np.array(test_tok[\"gender_id\"])\n",
    "            test_acc  = accuracy_score(test_labels, test_preds)\n",
    "            test_f1m  = f1_score(test_labels, test_preds, average=\"macro\")\n",
    "            test_fair = per_gender_scores(test_labels, test_preds, test_genders)\n",
    "            test_eo   = macro_equalized_odds_gap(test_labels, test_preds, test_genders, num_labels)\n",
    "\n",
    "            result = {\n",
    "                \"mode\": \"LoRA\" if use_lora else \"FULL\",\n",
    "                \"lambda\": lam,\n",
    "                \"seed\": seed,\n",
    "                # DEV\n",
    "                \"dev_acc\": dev_acc,\n",
    "                \"dev_macro_f1\": dev_f1m,\n",
    "                \"dev_delta_acc\": dev_fair[\"Δacc\"],\n",
    "                \"dev_delta_macro_f1\": dev_fair[\"Δmacro_f1\"],\n",
    "                \"dev_eo_gap\": dev_eo,\n",
    "                # TEST\n",
    "                \"test_acc\": test_acc,\n",
    "                \"test_macro_f1\": test_f1m,\n",
    "                \"test_delta_acc\": test_fair[\"Δacc\"],\n",
    "                \"test_delta_macro_f1\": test_fair[\"Δmacro_f1\"],\n",
    "                \"test_eo_gap\": test_eo,\n",
    "            }\n",
    "            all_results.append(result)\n",
    "\n",
    "            with open(os.path.join(out_dir, f\"result_{'lora' if use_lora else 'full'}_lambda_{lam}_seed_{seed}.json\"), \"w\") as f:\n",
    "                json.dump(result, f, indent=2)\n",
    "\n",
    "    with open(os.path.join(out_dir, f\"all_results_{'lora' if use_lora else 'full'}.json\"), \"w\") as f:\n",
    "        json.dump(all_results, f, indent=2)\n",
    "    return all_results\n",
    "\n",
    "# %%\n",
    "# =========================\n",
    "# 7) LAMBDA SELECTION on DEV\n",
    "# =========================\n",
    "def select_lambda_dev(results: List[Dict], mode: str, baseline_macro_f1: float,\n",
    "                      max_drop=0.01, fairness_key=\"dev_delta_macro_f1\") -> Tuple[float, Dict]:\n",
    "    \"\"\"\n",
    "    Select λ by minimising |fairness gap| on dev, under ≤ max_drop utility loss (macro-F1).\n",
    "    Return: (best_lambda, summary_row)\n",
    "    \"\"\"\n",
    "    rs = [r for r in results if r[\"mode\"] == mode]\n",
    "    best = None\n",
    "    best_lambda = None\n",
    "\n",
    "    # aggregate per λ (mean over seeds)\n",
    "    grouped = defaultdict(list)\n",
    "    for r in rs:\n",
    "        grouped[r[\"lambda\"]].append(r)\n",
    "\n",
    "    for lam, lst in grouped.items():\n",
    "        mf1s = [x[\"dev_macro_f1\"] for x in lst]\n",
    "        gaps = [abs(x[fairness_key]) for x in lst]\n",
    "        mf1_mean = float(np.mean(mf1s))\n",
    "        gap_mean = float(np.mean(gaps))\n",
    "\n",
    "        if baseline_macro_f1 - mf1_mean <= max_drop + 1e-8:\n",
    "            if best is None or gap_mean < best[\"gap_mean\"]:\n",
    "                best = {\"lambda\": lam, \"mf1_mean\": mf1_mean, \"gap_mean\": gap_mean}\n",
    "                best_lambda = lam\n",
    "\n",
    "    return best_lambda, best\n",
    "\n",
    "# %%\n",
    "# =========================\n",
    "# 8) PARETO + AUF + CIs\n",
    "# =========================\n",
    "def pareto_front(points):\n",
    "    \"\"\"points: list of dicts with 'util', 'fair', 'lambda'\"\"\"\n",
    "    frontier = []\n",
    "    for i, p in enumerate(points):\n",
    "        dominated = False\n",
    "        for j, q in enumerate(points):\n",
    "            if i == j: continue\n",
    "            if (q[\"util\"] >= p[\"util\"] and q[\"fair\"] <= p[\"fair\"]) and \\\n",
    "               (q[\"util\"] > p[\"util\"] or  q[\"fair\"] <  p[\"fair\"]):\n",
    "                dominated = True\n",
    "                break\n",
    "        if not dominated:\n",
    "            frontier.append(p)\n",
    "    return sorted(frontier, key=lambda x: (x[\"fair\"], -x[\"util\"]))\n",
    "\n",
    "def summarise_and_plot(results, mode, out_dir, util_metric=\"test_macro_f1\", fair_metric=\"test_delta_macro_f1\"):\n",
    "    rs = [r for r in results if r[\"mode\"] == mode]\n",
    "    grouped = defaultdict(list)\n",
    "    for r in rs:\n",
    "        grouped[r[\"lambda\"]].append(r)\n",
    "\n",
    "    rows = []\n",
    "    for lam, lst in grouped.items():\n",
    "        util_vals = [x[util_metric] for x in lst]\n",
    "        fair_vals = [abs(x[fair_metric]) for x in lst]\n",
    "        eo_vals   = [x[\"test_eo_gap\"] for x in lst]\n",
    "\n",
    "        util_m, util_l, util_u = mean_ci(util_vals)\n",
    "        fair_m, fair_l, fair_u = mean_ci(fair_vals)\n",
    "        eo_m,   eo_l,   eo_u   = mean_ci(eo_vals)\n",
    "\n",
    "        rows.append({\n",
    "            \"mode\": mode,\n",
    "            \"lambda\": lam,\n",
    "            f\"{util_metric}_mean\": util_m,\n",
    "            f\"{util_metric}_ci_low\": util_l,\n",
    "            f\"{util_metric}_ci_high\": util_u,\n",
    "            f\"|{fair_metric}|_mean\": fair_m,\n",
    "            f\"|{fair_metric}|_ci_low\": fair_l,\n",
    "            f\"|{fair_metric}|_ci_high\": fair_u,\n",
    "            \"eo_gap_mean\": eo_m,\n",
    "            \"eo_gap_ci_low\": eo_l,\n",
    "            \"eo_gap_ci_high\": eo_u,\n",
    "        })\n",
    "\n",
    "    df = pd.DataFrame(sorted(rows, key=lambda x: x[\"lambda\"]))\n",
    "    print(f\"\\n=== {mode} λ Summary (Test) ===\")\n",
    "    print(df.round(4))\n",
    "\n",
    "    # Pareto scatter\n",
    "    x = df[f\"{util_metric}_mean\"].values\n",
    "    y = df[f\"|{fair_metric}|_mean\"].values\n",
    "    ls = df[\"lambda\"].values\n",
    "\n",
    "    # Build points to compute frontier\n",
    "    pts = [{\"util\": float(xi), \"fair\": float(yi), \"lambda\": float(lam)} for xi, yi, lam in zip(x, y, ls)]\n",
    "    frontier = pareto_front(pts)\n",
    "\n",
    "    plt.figure(figsize=(7,5))\n",
    "    plt.scatter(x, y, c=ls, cmap=\"viridis\", s=90, label=\"All λ (mean over seeds)\")\n",
    "    for i, lam in enumerate(ls):\n",
    "        plt.annotate(f\"λ={lam}\", (x[i]+1e-4, y[i]+1e-4), fontsize=8)\n",
    "    # plot frontier\n",
    "    fx = [p[\"util\"] for p in frontier]\n",
    "    fy = [p[\"fair\"] for p in frontier]\n",
    "    plt.plot(fx, fy, 'r--', label=\"Pareto frontier\")\n",
    "\n",
    "    plt.xlabel(util_metric)\n",
    "    plt.ylabel(f\"|{fair_metric}| (lower is better)\")\n",
    "    plt.title(f\"Accuracy–Fairness Pareto ({mode})\")\n",
    "    plt.grid(alpha=0.2)\n",
    "    plt.legend()\n",
    "    plt.tight_layout()\n",
    "    plt.savefig(os.path.join(out_dir, f\"pareto_{mode}.png\"), dpi=200)\n",
    "    plt.show()\n",
    "\n",
    "    # AUF (normalised)\n",
    "    util_norm = (x - x.min()) / (x.max() - x.min() + 1e-8)\n",
    "    fair_norm = (y - y.min()) / (y.max() - y.min() + 1e-8)\n",
    "    order = np.argsort(util_norm)\n",
    "    auf = np.trapz(1 - fair_norm[order], util_norm[order])\n",
    "    print(f\"{mode} AUF (normalised): {auf:.3f}\")\n",
    "\n",
    "    df.to_csv(os.path.join(out_dir, f\"lambda_summary_{mode}.csv\"), index=False)\n",
    "    with open(os.path.join(out_dir, f\"AUF_{mode}.txt\"), \"w\") as f:\n",
    "        f.write(str(auf))\n",
    "\n",
    "    return df, auf, frontier\n",
    "\n",
    "# %%\n",
    "# =========================\n",
    "# 9) RUN EVERYTHING\n",
    "# =========================\n",
    "if __name__ == \"__main__\":\n",
    "    os.makedirs(CFG[\"OUT_DIR\"], exist_ok=True)\n",
    "\n",
    "    # 1) Run λ sweeps\n",
    "    results_full = run_lambda_sweep(CFG[\"LAMBDAS\"], CFG[\"SEEDS\"],\n",
    "                                    os.path.join(CFG[\"OUT_DIR\"], \"full_ft\"), use_lora=False)\n",
    "    results_lora = run_lambda_sweep(CFG[\"LAMBDAS\"], CFG[\"SEEDS\"],\n",
    "                                    os.path.join(CFG[\"OUT_DIR\"], \"lora\"), use_lora=True)\n",
    "\n",
    "    # 2) Baseline macro-F1 on dev for λ=0 (per mode)\n",
    "    def baseline_dev_macro_f1(results, mode):\n",
    "        rs = [r for r in results if r[\"mode\"] == mode and r[\"lambda\"] == 0.0]\n",
    "        return float(np.mean([r[\"dev_macro_f1\"] for r in rs])) if rs else None\n",
    "\n",
    "    base_full = baseline_dev_macro_f1(results_full, \"FULL\")\n",
    "    base_lora = baseline_dev_macro_f1(results_lora, \"LoRA\")\n",
    "\n",
    "    # 3) Select λ on dev for each mode\n",
    "    best_lambda_full, best_full = select_lambda_dev(results_full, \"FULL\",\n",
    "                                                    baseline_macro_f1=base_full,\n",
    "                                                    max_drop=CFG[\"MAX_MACROF1_DROP\"],\n",
    "                                                    fairness_key=\"dev_delta_macro_f1\")\n",
    "    best_lambda_lora, best_lora = select_lambda_dev(results_lora, \"LoRA\",\n",
    "                                                    baseline_macro_f1=base_lora,\n",
    "                                                    max_drop=CFG[\"MAX_MACROF1_DROP\"],\n",
    "                                                    fairness_key=\"dev_delta_macro_f1\")\n",
    "    print(\"\\n=== Selected λ (dev) ===\")\n",
    "    print(\"FULL:\", best_lambda_full, best_full)\n",
    "    print(\"LoRA:\", best_lambda_lora, best_lora)\n",
    "\n",
    "    # 4) Pareto + AUF + CIs (Test set, across seeds)\n",
    "    df_full, auf_full, frontier_full = summarise_and_plot(results_full, \"FULL\",\n",
    "                                                          os.path.join(CFG[\"OUT_DIR\"], \"full_ft\"),\n",
    "                                                          util_metric=\"test_macro_f1\",\n",
    "                                                          fair_metric=\"test_delta_macro_f1\")\n",
    "\n",
    "    df_lora, auf_lora, frontier_lora = summarise_and_plot(results_lora, \"LoRA\",\n",
    "                                                          os.path.join(CFG[\"OUT_DIR\"], \"lora\"),\n",
    "                                                          util_metric=\"test_macro_f1\",\n",
    "                                                          fair_metric=\"test_delta_macro_f1\")\n",
    "\n",
    "    # 5) Save everything\n",
    "    summary_all = {\n",
    "        \"config\": CFG,\n",
    "        \"best_lambda_full\": best_lambda_full,\n",
    "        \"best_full_dev\": best_full,\n",
    "        \"best_lambda_lora\": best_lambda_lora,\n",
    "        \"best_lora_dev\": best_lora,\n",
    "        \"auf_full\": auf_full,\n",
    "        \"auf_lora\": auf_lora,\n",
    "        \"pareto_full\": frontier_full,\n",
    "        \"pareto_lora\": frontier_lora,\n",
    "    }\n",
    "    with open(os.path.join(CFG[\"OUT_DIR\"], \"summary_all.json\"), \"w\") as f:\n",
    "        json.dump(summary_all, f, indent=2)\n",
    "\n",
    "    print(\"\\n✅ Done. Artifacts saved under:\", CFG[\"OUT_DIR\"])\n"
   ]
  },
  {
   "cell_type": "code",
   "execution_count": 5,
   "id": "2df4f2bf",
   "metadata": {},
   "outputs": [
    {
     "data": {
      "image/png": "[encoded data removed]",
      "text/plain": [
       "<Figure size 650x480 with 1 Axes>"
      ]
     },
     "metadata": {},
     "output_type": "display_data"
    },
    {
     "name": "stdout",
     "output_type": "stream",
     "text": [
      "\n",
      "--- Summary ---\n",
      "   lambda  util_mean  util_std  gap_mean   gap_std  n_seeds\n",
      "0    0.00   0.551644  0.023363  0.011602  0.011736        3\n",
      "1    0.05   0.555389  0.033895  0.009864  0.010092        3\n",
      "2    0.10   0.557532  0.030032  0.008946  0.007448        3\n",
      "3    0.20   0.552041  0.024089  0.009214  0.008960        3\n",
      "4    0.50   0.546482  0.022307  0.012809  0.016718        3\n",
      "5    1.00   0.550978  0.027437  0.012818  0.012758        3\n",
      "\n",
      "Frontier λ: [0.1]\n",
      "AUF(frontier)     = 0.000  95% CI (0.0, 0.9169681081023038)\n",
      "AUF(baseline-anch)= 0.350  95% CI (0.0, 0.8866554022117641)\n"
     ]
    }
   ],
   "source": [
    "# %% Pareto plot with baseline-anchored AUF + bootstrap CIs\n",
    "import json, math, numpy as np, pandas as pd, matplotlib.pyplot as plt\n",
    "from collections import defaultdict\n",
    "\n",
    "# ------------------ CONFIG ------------------\n",
    "RESULTS_PATH = \"runs_bias_in_bios_rq2/full_ft/all_results_full.json\"   # or \"summary_all.json\"\n",
    "MODE_FILTER  = \"FULL\"                    # which \"mode\" to keep\n",
    "UTIL_KEY     = \"test_macro_f1\"           # utility (higher is better)\n",
    "GAP_KEY      = \"test_delta_macro_f1\"     # fairness gap (lower is better); use \"test_eo_gap\" to switch\n",
    "TITLE_TAG    = \"FULL\"                    # appears in the chart title\n",
    "N_BOOT       = 500                       # bootstrap reps for AUF CIs\n",
    "\n",
    "# ------------------ LOAD ------------------\n",
    "with open(RESULTS_PATH, \"r\") as f:\n",
    "    raw = json.load(f)\n",
    "\n",
    "# Handle different JSON shapes: list of dicts, or dict with keys\n",
    "if isinstance(raw, dict):\n",
    "    # try common keys\n",
    "    if MODE_FILTER in raw:\n",
    "        results = raw[MODE_FILTER]\n",
    "    elif \"results\" in raw:\n",
    "        results = raw[\"results\"]\n",
    "    else:\n",
    "        # flatten dict-of-lists\n",
    "        results = []\n",
    "        for v in raw.values():\n",
    "            if isinstance(v, list):\n",
    "                results.extend(v)\n",
    "else:\n",
    "    results = raw\n",
    "\n",
    "# Keep only requested mode if the key exists\n",
    "if any(\"mode\" in r for r in results):\n",
    "    results = [r for r in results if r.get(\"mode\", MODE_FILTER) == MODE_FILTER]\n",
    "\n",
    "# Ensure needed keys exist\n",
    "needed = {\"lambda\", \"seed\", UTIL_KEY, GAP_KEY}\n",
    "missing = [k for k in needed if not all(k in r for r in results)]\n",
    "if missing:\n",
    "    raise ValueError(f\"Input JSON misses keys: {missing}\")\n",
    "\n",
    "# ------------------ AGGREGATE BY λ ------------------\n",
    "def aggregate_by_lambda(rows, util_key, gap_key):\n",
    "    by_lam = defaultdict(list)\n",
    "    for r in rows:\n",
    "        by_lam[r[\"lambda\"]].append(r)\n",
    "    records = []\n",
    "    for lam, rs in by_lam.items():\n",
    "        util = np.array([x[util_key] for x in rs], float)\n",
    "        gap  = np.array([abs(x[gap_key]) for x in rs], float)  # abs gap\n",
    "        records.append({\n",
    "            \"lambda\": lam,\n",
    "            \"util_mean\": float(util.mean()),\n",
    "            \"util_std\":  float(util.std(ddof=1)) if len(util)>1 else 0.0,\n",
    "            \"gap_mean\":  float(gap.mean()),\n",
    "            \"gap_std\":   float(gap.std(ddof=1)) if len(gap)>1 else 0.0,\n",
    "            \"n_seeds\":   len(rs)\n",
    "        })\n",
    "    df = pd.DataFrame(records).sort_values(\"lambda\").reset_index(drop=True)\n",
    "    return df\n",
    "\n",
    "df = aggregate_by_lambda(results, UTIL_KEY, GAP_KEY)\n",
    "\n",
    "# Baseline row (λ=0) required for baseline-anchored AUF\n",
    "if not any(np.isclose(df[\"lambda\"].values, 0.0)):\n",
    "    raise ValueError(\"No λ=0 baseline found in the results.\")\n",
    "\n",
    "base = df.loc[np.isclose(df[\"lambda\"], 0.0)].iloc[0]\n",
    "\n",
    "# ------------------ PARETO FRONTIER (maximize util, minimize gap) ------------------\n",
    "def non_dominated(df):\n",
    "    pts = df[[\"gap_mean\",\"util_mean\",\"lambda\"]].to_numpy()\n",
    "    dominated = np.zeros(len(pts), dtype=bool)\n",
    "    # i is dominated if ∃j s.t. gap_j <= gap_i AND util_j >= util_i, with at least one strict\n",
    "    for i in range(len(pts)):\n",
    "        for j in range(len(pts)):\n",
    "            if i==j: continue\n",
    "            if (pts[j,0] <= pts[i,0] and pts[j,1] >= pts[i,1]) and \\\n",
    "               (pts[j,0] <  pts[i,0] or  pts[j,1] >  pts[i,1]):\n",
    "                dominated[i] = True\n",
    "                break\n",
    "    fr = df.loc[~dominated].copy()\n",
    "    # sort frontier left-to-right (increasing gap) or by util; we'll sort by gap then util desc\n",
    "    fr = fr.sort_values([\"gap_mean\",\"util_mean\"], ascending=[True,False])\n",
    "    return fr\n",
    "\n",
    "frontier = non_dominated(df)\n",
    "\n",
    "# ------------------ AUF (frontier) ------------------\n",
    "def auf(front_df, full_df):\n",
    "    # min-max normalise\n",
    "    u = full_df[\"util_mean\"].to_numpy()\n",
    "    g = full_df[\"gap_mean\"].to_numpy()\n",
    "    u_n = (front_df[\"util_mean\"].to_numpy() - u.min()) / (u.max() - u.min() + 1e-8)\n",
    "    fair_score = 1.0 - (front_df[\"gap_mean\"].to_numpy() - g.min()) / (g.max() - g.min() + 1e-8)\n",
    "    order = np.argsort(u_n)\n",
    "    return float(np.trapz(fair_score[order], u_n[order]))\n",
    "\n",
    "# ------------------ Baseline-anchored AUF ------------------\n",
    "def auf_baseline(front_df, full_df, base_row):\n",
    "    u = full_df[\"util_mean\"].to_numpy()\n",
    "    g = full_df[\"gap_mean\"].to_numpy()\n",
    "    # normalise all to [0,1]\n",
    "    u_f = (front_df[\"util_mean\"].to_numpy() - u.min()) / (u.max() - u.min() + 1e-8)\n",
    "    f_f = 1.0 - (front_df[\"gap_mean\"].to_numpy() - g.min()) / (g.max() - g.min() + 1e-8)\n",
    "    u0 = (base_row[\"util_mean\"] - u.min()) / (u.max() - u.min() + 1e-8)\n",
    "    f0 = 1.0 - (base_row[\"gap_mean\"] - g.min()) / (g.max() - g.min() + 1e-8)\n",
    "    # keep frontier points with u >= u0 (to the right of baseline), then prepend baseline\n",
    "    mask = u_f >= u0 - 1e-12\n",
    "    u_aug = np.concatenate([[u0], u_f[mask]])\n",
    "    f_aug = np.concatenate([[f0], f_f[mask]])\n",
    "    order = np.argsort(u_aug)\n",
    "    return float(np.trapz(f_aug[order], u_aug[order]))\n",
    "\n",
    "AUF = auf(frontier, df)\n",
    "AUF_base = auf_baseline(frontier, df, base)\n",
    "\n",
    "# ------------------ Bootstrap CIs ------------------\n",
    "rng = np.random.default_rng(123)\n",
    "# group results by lambda for resampling\n",
    "by_lam = defaultdict(list)\n",
    "for r in results:\n",
    "    by_lam[r[\"lambda\"]].append(r)\n",
    "\n",
    "def bootstrap_once():\n",
    "    # resample within each lambda with replacement, keep same sample size\n",
    "    resampled = []\n",
    "    for lam, rs in by_lam.items():\n",
    "        idx = rng.integers(0, len(rs), size=len(rs))\n",
    "        resampled.extend([rs[i] for i in idx])\n",
    "    dfr = aggregate_by_lambda(resampled, UTIL_KEY, GAP_KEY)\n",
    "    fr  = non_dominated(dfr)\n",
    "    return auf(fr, dfr), auf_baseline(fr, dfr, dfr.loc[np.isclose(dfr[\"lambda\"],0.0)].iloc[0])\n",
    "\n",
    "boot = np.array([bootstrap_once() for _ in range(N_BOOT)])\n",
    "ci_auf      = (np.percentile(boot[:,0], 2.5), np.percentile(boot[:,0], 97.5))\n",
    "ci_auf_base = (np.percentile(boot[:,1], 2.5), np.percentile(boot[:,1], 97.5))\n",
    "\n",
    "# ------------------ PLOT ------------------\n",
    "plt.figure(figsize=(6.5,4.8))\n",
    "# error bars (±1 SD)\n",
    "plt.errorbar(df[\"gap_mean\"], df[\"util_mean\"],\n",
    "             xerr=df[\"gap_std\"], yerr=df[\"util_std\"],\n",
    "             fmt=\"o\", color=\"#4B3F72\", ecolor=(0,0,0,0.15), elinewidth=1, capsize=2, alpha=0.9)\n",
    "\n",
    "# annotate with λ\n",
    "for _, row in df.iterrows():\n",
    "    plt.annotate(f\"λ={row['lambda']}\", xy=(row[\"gap_mean\"], row[\"util_mean\"]),\n",
    "                 xytext=(4,4), textcoords=\"offset points\", fontsize=8)\n",
    "\n",
    "# baseline marker (open circle)\n",
    "plt.plot(base[\"gap_mean\"], base[\"util_mean\"], marker=\"o\", ms=9, mfc=\"white\", mec=\"#222222\", mew=1.2,\n",
    "         label=\"Baseline (λ=0)\")\n",
    "\n",
    "# draw frontier\n",
    "plt.plot(frontier[\"gap_mean\"], frontier[\"util_mean\"], \"--\", color=\"crimson\", lw=1.5, label=\"Pareto frontier\")\n",
    "\n",
    "plt.xlabel(f\"|ΔMacro‑F1| (lower is better)\" if GAP_KEY==\"test_delta_macro_f1\" else \"EO gap (lower is better)\")\n",
    "plt.ylabel(\"Macro‑F1 (higher is better)\")\n",
    "plt.title(f\"Accuracy–Fairness Pareto ({TITLE_TAG}) — \"\n",
    "          f\"AUF={AUF:.3f} [{ci_auf[0]:.3f},{ci_auf[1]:.3f}] · \"\n",
    "          f\"AUF₍baseline₎={AUF_base:.3f} [{ci_auf_base[0]:.3f},{ci_auf_base[1]:.3f}]\")\n",
    "plt.grid(alpha=0.2, linestyle=\":\")\n",
    "plt.legend(loc=\"lower left\", fontsize=9, frameon=False)\n",
    "\n",
    "# tighten axes slightly around data\n",
    "pad_x = max(1e-4, (df[\"gap_mean\"].max()-df[\"gap_mean\"].min())*0.08)\n",
    "pad_y = max(1e-3, (df[\"util_mean\"].max()-df[\"util_mean\"].min())*0.01)\n",
    "plt.xlim(df[\"gap_mean\"].min()-pad_x, df[\"gap_mean\"].max()+pad_x)\n",
    "plt.ylim(df[\"util_mean\"].min()-pad_y*4, df[\"util_mean\"].max()+pad_y*4)\n",
    "\n",
    "plt.tight_layout()\n",
    "plt.savefig(f\"pareto_{TITLE_TAG}_v2.png\", dpi=200)\n",
    "plt.show()\n",
    "\n",
    "print(\"\\n--- Summary ---\")\n",
    "print(df[[\"lambda\",\"util_mean\",\"util_std\",\"gap_mean\",\"gap_std\",\"n_seeds\"]])\n",
    "print(\"\\nFrontier λ:\", list(frontier[\"lambda\"].round(3)))\n",
    "print(f\"AUF(frontier)     = {AUF:.3f}  95% CI {ci_auf}\")\n",
    "print(f\"AUF(baseline-anch)= {AUF_base:.3f}  95% CI {ci_auf_base}\")\n"
   ]
  }
 ],
 "metadata": {
  "kernelspec": {
   "display_name": "Python 3",
   "language": "python",
   "name": "python3"
  },
  "language_info": {
   "codemirror_mode": {
    "name": "ipython",
    "version": 3
   },
   "file_extension": ".py",
   "mimetype": "text/x-python",
   "name": "python",
   "nbconvert_exporter": "python",
   "pygments_lexer": "ipython3",
   "version": "3.10.11"
  }
 },
 "nbformat": 4,
 "nbformat_minor": 5
}
